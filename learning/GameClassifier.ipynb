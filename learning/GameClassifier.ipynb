{
 "cells": [
  {
   "cell_type": "code",
   "execution_count": 1,
   "metadata": {},
   "outputs": [],
   "source": [
    "import pandas as pd\n",
    "\n",
    "def get_action_df(raw_df, action):\n",
    "    return raw_df.loc[raw_df[\"actionType\"] == action].drop(\"actionType\", 1)\n",
    "\n",
    "\n",
    "def is_filter_player(steam_id, filter_id):\n",
    "    if steam_id == filter_id:\n",
    "        return 1\n",
    "    else:\n",
    "        return 0\n",
    "    \n",
    "def get_dfs(csvpath, dropna=True):\n",
    "    raw_df = pd.read_csv(csvpath)\n",
    "    if dropna:\n",
    "        raw_df = raw_df.dropna()\n",
    "    \n",
    "    attack_df = get_action_df(raw_df, \"ATTACK\")\n",
    "    move_df = get_action_df(raw_df, \"MOVE\")\n",
    "    cast_df = get_action_df(raw_df, \"CAST\")\n",
    "\n",
    "    return attack_df, move_df, cast_df\n",
    "\n",
    "def containsPlayer(game, filter_id):\n",
    "    if filter_id in game.csv_file:\n",
    "        return 1\n",
    "    else:\n",
    "        return 0\n"
   ]
  },
  {
   "cell_type": "code",
   "execution_count": 2,
   "metadata": {},
   "outputs": [],
   "source": [
    "class Game:\n",
    "\n",
    "    def __init__(self, csv_file):\n",
    "        a, m, c = get_dfs(csv_file)\n",
    "        \n",
    "        self.attack_df = a\n",
    "        self.move_df = m\n",
    "        self.cast_df = c\n",
    "        \n",
    "        self.csv_file = csv_file"
   ]
  },
  {
   "cell_type": "code",
   "execution_count": 3,
   "metadata": {},
   "outputs": [],
   "source": [
    "from sklearn.model_selection import StratifiedKFold\n",
    "from sklearn.metrics import accuracy_score\n",
    "from sklearn.metrics import precision_score\n",
    "from sklearn.metrics import recall_score\n",
    "from sklearn.ensemble import VotingClassifier\n",
    "\n",
    "class GameClassifier:\n",
    "\n",
    "    def __init__(self, filter_id, attack_model, move_model, cast_model):\n",
    "        self.filter_id = filter_id\n",
    "        self.attack_model = attack_model\n",
    "        self.move_model = move_model\n",
    "        self.cast_model = cast_model\n",
    "\n",
    "\n",
    "    def cross_validate(self, games, ys, splits=3):\n",
    "        skf = StratifiedKFold(n_splits=splits)\n",
    "        for train, test in skf.split(games, ys):\n",
    "            training_games = [games[i] for i in train]\n",
    "            testing_games = [games[i] for i in test]\n",
    "            y_test = [ys[i] for i in test]\n",
    "\n",
    "            \n",
    "            for model,train_df in self.concat_data(training_games):\n",
    "                self.fit(model, train_df)\n",
    "\n",
    "            predictions = self.predict(testing_games)\n",
    "            print(\"Predictions: {}\".format(predictions))\n",
    "            print(\"Actual:      {}\".format(y_test))\n",
    "            print(\"KFold accuracy: {}, precision: {}, recall: {}\\n\".format(accuracy_score(y_test, predictions),\n",
    "                                                                          precision_score(y_test, predictions),\n",
    "                                                                          recall_score(y_test, predictions)))\n",
    "\n",
    "\n",
    "    def concat_data(self, training_games):\n",
    "        attack_df, move_df, cast_df = self.concat_games(training_games)\n",
    "\n",
    "        return ((self.attack_model,attack_df),\n",
    "                (self.move_model,move_df),\n",
    "                (self.cast_model,cast_df))\n",
    "\n",
    "\n",
    "    def concat_games(self, games):\n",
    "        attack_df = pd.concat([game.attack_df for game in games])\n",
    "        move_df = pd.concat([game.move_df for game in games])\n",
    "        cast_df = pd.concat([game.cast_df for game in games])\n",
    "        \n",
    "        return attack_df, move_df, cast_df\n",
    "\n",
    "\n",
    "    def get_y(self, df):\n",
    "        return df[\"steamid\"].map(lambda steamid: is_filter_player(steamid, self.filter_id))\n",
    "\n",
    "    \n",
    "    def fit(self, model, df):\n",
    "        y = self.get_y(df)\n",
    "        X = df.drop(\"steamid\", 1)\n",
    "        model.fit(X, y)\n",
    "\n",
    "    \n",
    "    def get_percents(self, model, df):\n",
    "        predictions = model.predict(df.drop(\"steamid\", 1))\n",
    "        return sum(predictions)/len(predictions)\n",
    "    \n",
    "    def get_probas(self, model, df):\n",
    "        probabilities = model.predict_proba(df.drop(\"steamid\", 1))\n",
    "        return sum(probabilities)/len(probabilities)\n",
    "\n",
    "    def predict(self, games):\n",
    "        predictions = []\n",
    "        for game in games:\n",
    "            attack_score = self.get_percents(self.attack_model, game.attack_df)\n",
    "            move_score = self.get_percents(self.move_model, game.move_df)\n",
    "            cast_score = self.get_percents(self.cast_model, game.cast_df)\n",
    "            \n",
    "            attack_proba = self.get_probas(self.attack_model, game.attack_df)\n",
    "            move_proba = self.get_probas(self.move_model, game.move_df)\n",
    "            cast_proba = self.get_probas(self.cast_model, game.cast_df)\n",
    "            \n",
    "            total_len = len(game.attack_df.index) + len(game.move_df.index) + len(game.cast_df.index)\n",
    "            attack_weight = len(game.attack_df.index)/total_len\n",
    "            move_weight = len(game.move_df.index)/total_len\n",
    "            cast_weight = len(game.cast_df.index)/total_len\n",
    "            \n",
    "            #print((attack_proba*attack_weight) + (move_proba*move_weight) + (cast_proba*cast_weight))\n",
    "            #print(\"{}, {}, {}\".format(attack_score, move_score, cast_score))\n",
    "            if attack_score + move_score + cast_score > 1.5:\n",
    "                predictions.append(1)\n",
    "            else:\n",
    "                predictions.append(0)\n",
    "\n",
    "        return predictions"
   ]
  },
  {
   "cell_type": "code",
   "execution_count": 4,
   "metadata": {},
   "outputs": [],
   "source": [
    "import os\n",
    "import random\n",
    "import ntpath\n",
    "\n",
    "from sklearn.linear_model import LogisticRegression\n",
    "\n",
    "\n",
    "def load_games(filepath):\n",
    "    games = []\n",
    "    for filename in os.listdir(filepath):\n",
    "        games.append(Game(\"{}/{}\".format(filepath, filename)))\n",
    "        \n",
    "    return games\n",
    "\n",
    "def cross_eval(games, n_splits):\n",
    "    filter_id = ntpath.basename(random.choice(games).csv_file)[:17]\n",
    "    \n",
    "    classifier = GameClassifier(int(filter_id), \n",
    "                                LogisticRegression(class_weight=\"balanced\"), \n",
    "                                LogisticRegression(class_weight=\"balanced\"), \n",
    "                                LogisticRegression(class_weight=\"balanced\"))\n",
    "    \n",
    "    ys = [containsPlayer(game, filter_id) for game in games]\n",
    "\n",
    "    classifier.cross_validate(games, ys, splits=n_splits)"
   ]
  },
  {
   "cell_type": "code",
   "execution_count": 5,
   "metadata": {},
   "outputs": [],
   "source": [
    "games = load_games(\"/cs/scratch/sy35/dota-data/19/data/mouseaction\")"
   ]
  },
  {
   "cell_type": "code",
   "execution_count": 6,
   "metadata": {
    "scrolled": true
   },
   "outputs": [
    {
     "name": "stdout",
     "output_type": "stream",
     "text": [
      "Predictions: [0, 0, 0, 0, 0, 1, 1, 0, 0, 0, 1, 0, 1, 0, 0, 0, 1, 0, 0, 1, 1, 0, 0, 1, 0, 0, 1, 1, 0, 0, 0, 0, 0, 1, 1, 0, 0, 1, 0, 1, 0, 0, 1, 1, 0, 1, 1]\n",
      "Actual:      [0, 0, 0, 0, 0, 0, 0, 0, 0, 0, 0, 0, 0, 0, 0, 0, 0, 0, 0, 1, 0, 0, 0, 0, 0, 0, 0, 0, 0, 0, 0, 0, 0, 0, 0, 0, 0, 1, 0, 0, 0, 0, 1, 0, 0, 1, 1]\n",
      "KFold accuracy: 0.723404255319149, precision: 0.2777777777777778, recall: 1.0\n",
      "\n",
      "Predictions: [1, 1, 0, 1, 0, 0, 1, 0, 0, 0, 0, 1, 1, 0, 0, 1, 0, 0, 0, 1, 1, 0, 1, 1, 1, 1, 1, 0, 0, 0, 1, 0, 0, 1, 1, 1, 0, 0, 0, 1, 0, 0, 0, 0, 1, 1]\n",
      "Actual:      [0, 0, 0, 0, 0, 0, 0, 0, 0, 0, 0, 0, 1, 0, 0, 0, 0, 0, 0, 0, 0, 0, 0, 0, 0, 1, 0, 0, 0, 0, 1, 0, 0, 0, 0, 0, 0, 0, 0, 0, 0, 0, 0, 0, 0, 1]\n",
      "KFold accuracy: 0.6304347826086957, precision: 0.19047619047619047, recall: 1.0\n",
      "\n",
      "Predictions: [1, 0, 0, 1, 1, 0, 0, 0, 0, 1, 1, 1, 1, 0, 1, 1, 1, 1, 0, 0, 0, 0, 0, 1, 0, 1, 0, 0, 0, 1, 0, 0, 1, 1, 1, 0, 0, 1, 0, 0, 0, 1, 1, 1, 0]\n",
      "Actual:      [0, 0, 0, 0, 0, 0, 0, 0, 0, 0, 0, 0, 1, 0, 0, 0, 1, 0, 0, 0, 0, 0, 0, 0, 0, 1, 0, 0, 0, 0, 0, 0, 0, 0, 0, 0, 0, 0, 0, 0, 0, 0, 0, 1, 0]\n",
      "KFold accuracy: 0.6222222222222222, precision: 0.19047619047619047, recall: 1.0\n",
      "\n"
     ]
    }
   ],
   "source": [
    "cross_eval(games, 3)"
   ]
  },
  {
   "cell_type": "code",
   "execution_count": 7,
   "metadata": {},
   "outputs": [
    {
     "name": "stdout",
     "output_type": "stream",
     "text": [
      "Predictions: [0, 0, 1, 0, 0, 0, 0, 0, 0, 1, 0, 0, 0, 0, 0, 0, 0, 0, 0, 0, 0, 0, 0, 0, 0, 0, 0, 0, 0, 0, 0, 0, 0, 0, 0]\n",
      "Actual:      [0, 0, 1, 0, 0, 0, 0, 0, 0, 1, 0, 0, 0, 0, 0, 0, 0, 0, 0, 0, 0, 0, 0, 0, 0, 0, 0, 0, 0, 0, 0, 0, 0, 0, 0]\n",
      "KFold accuracy: 1.0, precision: 1.0, recall: 1.0\n",
      "\n",
      "Predictions: [1, 0, 0, 0, 0, 0, 0, 0, 0, 0, 0, 0, 1, 0, 0, 0, 0, 0, 0, 0, 0, 0, 0, 0, 0, 0, 0, 0, 0, 0, 0, 0, 0, 0, 0]\n",
      "Actual:      [1, 0, 0, 0, 0, 0, 0, 0, 0, 0, 0, 0, 1, 0, 0, 0, 0, 0, 0, 0, 0, 0, 0, 0, 0, 0, 0, 0, 0, 0, 0, 0, 0, 0, 0]\n",
      "KFold accuracy: 1.0, precision: 1.0, recall: 1.0\n",
      "\n",
      "Predictions: [0, 0, 0, 0, 0, 0, 0, 0, 0, 0, 0, 0, 0, 0, 0, 0, 0, 0, 0, 0, 0, 0, 0, 0, 0, 0, 0, 0, 0, 1, 0, 0, 0, 0]\n",
      "Actual:      [0, 0, 0, 0, 0, 0, 0, 0, 0, 0, 0, 0, 0, 0, 0, 0, 0, 0, 0, 0, 0, 0, 0, 0, 0, 0, 0, 0, 0, 1, 0, 0, 0, 0]\n",
      "KFold accuracy: 1.0, precision: 1.0, recall: 1.0\n",
      "\n",
      "Predictions: [0, 0, 0, 0, 0, 0, 0, 0, 0, 0, 0, 0, 0, 0, 0, 0, 1, 0, 0, 0, 0, 0, 0, 0, 0, 0, 0, 0, 0, 0, 0, 0, 0, 0]\n",
      "Actual:      [0, 0, 0, 0, 0, 0, 0, 0, 0, 0, 0, 0, 0, 0, 0, 0, 1, 0, 0, 0, 0, 0, 0, 0, 0, 0, 0, 0, 0, 0, 0, 0, 0, 0]\n",
      "KFold accuracy: 1.0, precision: 1.0, recall: 1.0\n",
      "\n"
     ]
    }
   ],
   "source": [
    "cross_eval(games, 4)"
   ]
  },
  {
   "cell_type": "code",
   "execution_count": 8,
   "metadata": {},
   "outputs": [
    {
     "name": "stdout",
     "output_type": "stream",
     "text": [
      "Predictions: [0, 0, 0, 0, 0, 0, 1, 0, 0, 0, 0, 0, 1, 0, 0, 0, 0, 0, 1, 0, 1, 0, 0, 1, 0, 0, 1, 1, 1]\n",
      "Actual:      [0, 0, 0, 0, 0, 0, 0, 0, 0, 0, 0, 0, 1, 0, 0, 0, 0, 0, 0, 0, 0, 0, 0, 0, 0, 0, 0, 1, 1]\n",
      "KFold accuracy: 0.8275862068965517, precision: 0.375, recall: 1.0\n",
      "\n",
      "Predictions: [1, 0, 0, 0, 0, 0, 1, 1, 0, 0, 0, 0, 0, 0, 0, 1, 0, 0, 1, 0, 0, 1, 0, 0, 0, 1, 1, 1]\n",
      "Actual:      [0, 0, 0, 0, 0, 0, 0, 0, 0, 0, 0, 0, 0, 0, 0, 0, 0, 0, 0, 0, 0, 0, 0, 0, 0, 1, 1, 1]\n",
      "KFold accuracy: 0.7857142857142857, precision: 0.3333333333333333, recall: 1.0\n",
      "\n",
      "Predictions: [0, 0, 0, 0, 0, 0, 0, 0, 0, 0, 1, 1, 0, 0, 1, 0, 1, 0, 0, 0, 0, 0, 0, 1, 1, 1, 0]\n",
      "Actual:      [0, 0, 0, 0, 0, 0, 0, 0, 0, 0, 0, 0, 0, 0, 1, 0, 1, 0, 0, 0, 0, 0, 0, 0, 0, 0, 0]\n",
      "KFold accuracy: 0.8148148148148148, precision: 0.2857142857142857, recall: 1.0\n",
      "\n",
      "Predictions: [0, 0, 1, 0, 0, 0, 0, 1, 0, 0, 0, 1, 1, 0, 0, 0, 0, 0, 1, 1, 1, 0, 0, 1, 0, 0, 1]\n",
      "Actual:      [0, 0, 0, 0, 0, 0, 0, 0, 0, 0, 0, 1, 0, 0, 0, 0, 0, 0, 0, 0, 0, 0, 0, 0, 0, 0, 1]\n",
      "KFold accuracy: 0.7407407407407407, precision: 0.2222222222222222, recall: 1.0\n",
      "\n",
      "Predictions: [1, 0, 0, 0, 0, 0, 0, 0, 0, 0, 0, 1, 0, 0, 1, 0, 1, 0, 0, 1, 0, 0, 0, 0, 0, 0, 0]\n",
      "Actual:      [0, 0, 0, 0, 0, 0, 0, 0, 0, 0, 0, 0, 0, 0, 0, 0, 1, 0, 0, 1, 0, 0, 0, 0, 0, 0, 0]\n",
      "KFold accuracy: 0.8888888888888888, precision: 0.4, recall: 1.0\n",
      "\n"
     ]
    }
   ],
   "source": [
    "cross_eval(games, 5)"
   ]
  },
  {
   "cell_type": "code",
   "execution_count": null,
   "metadata": {},
   "outputs": [],
   "source": []
  },
  {
   "cell_type": "code",
   "execution_count": null,
   "metadata": {
    "scrolled": true
   },
   "outputs": [],
   "source": [
    "\n",
    "path = \"/cs/scratch/sy35/dota-data/14/mouseaction\"\n",
    "games = []\n",
    "for filename in os.listdir(path):\n",
    "    games.append(Game(\"{}/{}\".format(path, filename)))\n",
    "\n",
    "classifier = GameClassifier(76561198119286646, LogisticRegression(), LogisticRegression(), LogisticRegression())\n",
    "\n",
    "ys = [containsPlayer(game, \"76561198119286646\") for game in games]\n",
    "classifier.cross_validate(games, ys, splits=5)"
   ]
  },
  {
   "cell_type": "code",
   "execution_count": null,
   "metadata": {},
   "outputs": [],
   "source": []
  }
 ],
 "metadata": {
  "kernelspec": {
   "display_name": "ml",
   "language": "python",
   "name": "ml"
  },
  "language_info": {
   "codemirror_mode": {
    "name": "ipython",
    "version": 3
   },
   "file_extension": ".py",
   "mimetype": "text/x-python",
   "name": "python",
   "nbconvert_exporter": "python",
   "pygments_lexer": "ipython3",
   "version": "3.6.6"
  }
 },
 "nbformat": 4,
 "nbformat_minor": 2
}
