{
 "cells": [
  {
   "cell_type": "code",
   "execution_count": 20,
   "metadata": {},
   "outputs": [],
   "source": [
    "%run pair_classifier.py"
   ]
  },
  {
   "cell_type": "code",
   "execution_count": 49,
   "metadata": {},
   "outputs": [],
   "source": [
    "import itertools\n",
    "import os\n",
    "import ntpath\n",
    "\n",
    "\n",
    "def get_pairs(pair_names, splits):\n",
    "    return [Pair(pair, splits) for pair in pair_names]\n",
    "\n",
    "def get_playerid(name):\n",
    "    return ntpath.basename(name)[:17]\n",
    "\n",
    "def is_same_player(id1, id2):\n",
    "    return 1 if id1 == id2 else 0\n",
    "\n",
    "def get_ys(pairs):\n",
    "    return [\n",
    "        is_same_player(get_playerid(file0), get_playerid(file1))\n",
    "        for file0,file1 in pairs\n",
    "    ]\n"
   ]
  },
  {
   "cell_type": "code",
   "execution_count": 22,
   "metadata": {},
   "outputs": [],
   "source": [
    "import random\n",
    "\n",
    "def sample_filter(sample, prob):\n",
    "    if sample[1] == 0:\n",
    "        if random.random() < prob:\n",
    "            return False\n",
    "        else:\n",
    "            return True\n",
    "    else:\n",
    "        return False\n",
    "\n",
    "def sample(X, y, prob):\n",
    "    combine = [(X[i], y[i]) for i in range(len(X))]\n",
    "    sample = [s for s in combine if not sample_filter(s, prob)]\n",
    "    \n",
    "    return map(list, zip(*sample))\n",
    "\n",
    "def count_sample(x):\n",
    "    negatives = x.count(0)\n",
    "    positives = x.count(1)\n",
    "    return \"{} negative samples and {} positive samples\".format(negatives, positives)"
   ]
  },
  {
   "cell_type": "code",
   "execution_count": 23,
   "metadata": {},
   "outputs": [],
   "source": [
    "def ml(X, y, pc, cv):\n",
    "    skf = StratifiedKFold(cv)\n",
    "\n",
    "    for train_index, test_index in skf.split(X, y):\n",
    "        X_train = [X[i] for i in train_index]\n",
    "        X_test = [X[i] for i in test_index]\n",
    "        y_train = [y[i] for i in train_index]\n",
    "        y_test = [y[i] for i in test_index]\n",
    "\n",
    "        pc.train(X_train, y_train)\n",
    "        pc.test(X_test, y_test)"
   ]
  },
  {
   "cell_type": "code",
   "execution_count": 40,
   "metadata": {},
   "outputs": [],
   "source": [
    "path = \"/cs/scratch/sy35/dota-data/16/data/mouseaction\"\n",
    "#pairs_1 = get_pairs(path, 1)\n",
    "#pairs_2 = get_pairs(path, 2)\n",
    "#pairs_3 = get_pairs(path, 3)\n",
    "pairs = get_pair_names(path)\n",
    "ys = get_ys(pairs)"
   ]
  },
  {
   "cell_type": "code",
   "execution_count": 41,
   "metadata": {},
   "outputs": [
    {
     "data": {
      "text/plain": [
       "'584 negative samples and 66 positive samples'"
      ]
     },
     "execution_count": 41,
     "metadata": {},
     "output_type": "execute_result"
    }
   ],
   "source": [
    "count_sample(ys)"
   ]
  },
  {
   "cell_type": "code",
   "execution_count": 46,
   "metadata": {},
   "outputs": [],
   "source": [
    "pair_names, y = sample(pairs, ys, 0.2)"
   ]
  },
  {
   "cell_type": "code",
   "execution_count": 47,
   "metadata": {},
   "outputs": [
    {
     "data": {
      "text/plain": [
       "'113 negative samples and 66 positive samples'"
      ]
     },
     "execution_count": 47,
     "metadata": {},
     "output_type": "execute_result"
    }
   ],
   "source": [
    "count_sample(y)"
   ]
  },
  {
   "cell_type": "code",
   "execution_count": 50,
   "metadata": {},
   "outputs": [],
   "source": [
    "pairs1 = get_pairs(pair_names, 1)"
   ]
  },
  {
   "cell_type": "code",
   "execution_count": 56,
   "metadata": {},
   "outputs": [],
   "source": [
    "pairs2 = get_pairs(pair_names, 2)"
   ]
  },
  {
   "cell_type": "code",
   "execution_count": 59,
   "metadata": {},
   "outputs": [],
   "source": [
    "pairs3 = get_pairs(pair_names, 3)"
   ]
  },
  {
   "cell_type": "code",
   "execution_count": 94,
   "metadata": {},
   "outputs": [],
   "source": [
    "from sklearn.linear_model import LogisticRegression\n",
    "from sklearn.ensemble import RandomForestClassifier\n",
    "\n",
    "lr = PairClassifier(LogisticRegression(class_weight=\"balanced\"), \n",
    "                    LogisticRegression(class_weight=\"balanced\"), \n",
    "                    LogisticRegression(class_weight=\"balanced\"), \n",
    "                    (2,))\n",
    "\n",
    "rf = PairClassifier(RandomForestClassifier(class_weight=\"balanced\"), \n",
    "                    RandomForestClassifier(class_weight=\"balanced\"), \n",
    "                    RandomForestClassifier(class_weight=\"balanced\"), \n",
    "                    (2,))"
   ]
  },
  {
   "cell_type": "code",
   "execution_count": 95,
   "metadata": {},
   "outputs": [
    {
     "name": "stdout",
     "output_type": "stream",
     "text": [
      "Accuracy: 0.648648648649, Precision: 0.529411764706, Recall: 0.642857142857\n",
      "Accuracy: 0.527777777778, Precision: 0.3, Recall: 0.230769230769\n",
      "Accuracy: 0.361111111111, Precision: 0.25, Recall: 0.384615384615\n",
      "Accuracy: 0.4, Precision: 0.3, Recall: 0.461538461538\n",
      "Accuracy: 0.714285714286, Precision: 0.6, Recall: 0.692307692308\n"
     ]
    }
   ],
   "source": [
    "ml(pairs1, y, lr, 5)"
   ]
  },
  {
   "cell_type": "code",
   "execution_count": 96,
   "metadata": {},
   "outputs": [
    {
     "name": "stdout",
     "output_type": "stream",
     "text": [
      "Accuracy: 0.783783783784, Precision: 0.75, Recall: 0.642857142857\n",
      "Accuracy: 0.805555555556, Precision: 0.8, Recall: 0.615384615385\n",
      "Accuracy: 0.583333333333, Precision: 0.333333333333, Recall: 0.153846153846\n",
      "Accuracy: 0.657142857143, Precision: 0.52380952381, Recall: 0.846153846154\n",
      "Accuracy: 0.771428571429, Precision: 0.666666666667, Recall: 0.769230769231\n"
     ]
    }
   ],
   "source": [
    "ml(pairs1, y, rf, 5)"
   ]
  },
  {
   "cell_type": "code",
   "execution_count": 97,
   "metadata": {},
   "outputs": [
    {
     "name": "stdout",
     "output_type": "stream",
     "text": [
      "Accuracy: 0.648648648649, Precision: 0.52380952381, Recall: 0.785714285714\n",
      "Accuracy: 0.555555555556, Precision: 0.363636363636, Recall: 0.307692307692\n",
      "Accuracy: 0.388888888889, Precision: 0.153846153846, Recall: 0.153846153846\n",
      "Accuracy: 0.4, Precision: 0.25, Recall: 0.307692307692\n",
      "Accuracy: 0.657142857143, Precision: 0.533333333333, Recall: 0.615384615385\n"
     ]
    }
   ],
   "source": [
    "ml(pairs2, y, lr, 5)"
   ]
  },
  {
   "cell_type": "code",
   "execution_count": 98,
   "metadata": {},
   "outputs": [
    {
     "name": "stdout",
     "output_type": "stream",
     "text": [
      "Accuracy: 0.72972972973, Precision: 0.625, Recall: 0.714285714286\n",
      "Accuracy: 0.722222222222, Precision: 0.636363636364, Recall: 0.538461538462\n",
      "Accuracy: 0.611111111111, Precision: 0.444444444444, Recall: 0.307692307692\n",
      "Accuracy: 0.571428571429, Precision: 0.458333333333, Recall: 0.846153846154\n",
      "Accuracy: 0.8, Precision: 0.8, Recall: 0.615384615385\n"
     ]
    }
   ],
   "source": [
    "ml(pairs2, y, rf, 5)"
   ]
  },
  {
   "cell_type": "code",
   "execution_count": 99,
   "metadata": {},
   "outputs": [
    {
     "name": "stdout",
     "output_type": "stream",
     "text": [
      "Accuracy: 0.648648648649, Precision: 0.529411764706, Recall: 0.642857142857\n",
      "Accuracy: 0.444444444444, Precision: 0.181818181818, Recall: 0.153846153846\n",
      "Accuracy: 0.388888888889, Precision: 0.153846153846, Recall: 0.153846153846\n",
      "Accuracy: 0.514285714286, Precision: 0.375, Recall: 0.461538461538\n",
      "Accuracy: 0.571428571429, Precision: 0.454545454545, Recall: 0.769230769231\n"
     ]
    }
   ],
   "source": [
    "ml(pairs3, y, lr, 5)"
   ]
  },
  {
   "cell_type": "code",
   "execution_count": 100,
   "metadata": {},
   "outputs": [
    {
     "name": "stdout",
     "output_type": "stream",
     "text": [
      "Accuracy: 0.648648648649, Precision: 0.538461538462, Recall: 0.5\n",
      "Accuracy: 0.638888888889, Precision: 0.5, Recall: 0.384615384615\n",
      "Accuracy: 0.638888888889, Precision: 0.5, Recall: 0.307692307692\n",
      "Accuracy: 0.657142857143, Precision: 0.52380952381, Recall: 0.846153846154\n",
      "Accuracy: 0.742857142857, Precision: 0.7, Recall: 0.538461538462\n"
     ]
    }
   ],
   "source": [
    "ml(pairs3, y, rf, 5)"
   ]
  },
  {
   "cell_type": "code",
   "execution_count": null,
   "metadata": {},
   "outputs": [],
   "source": []
  },
  {
   "cell_type": "code",
   "execution_count": null,
   "metadata": {},
   "outputs": [],
   "source": []
  },
  {
   "cell_type": "code",
   "execution_count": null,
   "metadata": {},
   "outputs": [],
   "source": []
  },
  {
   "cell_type": "code",
   "execution_count": null,
   "metadata": {},
   "outputs": [],
   "source": [
    "from sklearn.neural_network import MLPClassifier\n",
    "\n",
    "\n",
    "def get_pair_dfs(self, pair, splits):\n",
    "        attacks, moves, casts = [], [], []\n",
    "        file0, file1 = pair\n",
    "        \n",
    "        dfs = get_df(file0, file1, splits)\n",
    "        \n",
    "        return dfs[0], dfs[1], dfs[2]\n",
    "\n",
    "class Pair:\n",
    "    def __init__(self, pair, splits):\n",
    "        attack_df, move_df, cast_df = get_pair_dfs(pair, splits)\n",
    "        \n",
    "        self.attack_df = attack_df\n",
    "        self.move_df = move_df\n",
    "        self.cast_df = cast_df\n",
    "        \n",
    "\n",
    "class PairClassifier:\n",
    "    \n",
    "    def __init__(self, attack_model, move_model, cast_model, network_size):\n",
    "        self.attack_model = attack_model\n",
    "        self.move_model = move_model\n",
    "        self.cast_model = cast_model\n",
    "        \n",
    "        self.network = MLPClassifier(solver=\"lbfgs\", hidden_layer_sizes=network_size, random_state=42)\n",
    "        \n",
    "    def get_pairs_dfs(self, pairs, splits):\n",
    "        attacks, moves, casts = [], [], []\n",
    "        for pair in pairs:\n",
    "            attacks.append(pair.attack_df)\n",
    "            moves.append(pair.move_df)\n",
    "            casts.append(pair.cast_df)\n",
    "            \n",
    "        return pd.concat(attacks), pd.concat(moves). pd.concat(casts)\n",
    "        \n",
    "    def train(self, pairs, y, splits):\n",
    "        for model, train_df in self.get_pairs_dfs(pairs, splits):\n",
    "            model.fit(train_df, y)\n",
    "        self.fit_network(pairs, y)\n",
    "        \n",
    "    def fit_network(self, pairs, y):\n",
    "        X = [self.get_all_probas(pair) for pair in pairs]\n",
    "        self.network.fit(X, y)\n",
    "        \n",
    "    def get_proba(self, model, df):\n",
    "        return model.predict_proba(df)\n",
    "        \n",
    "    def get_all_probas(self, pair):\n",
    "        attack_proba = self.get_proba(self.attack_model, pair.attack_df)\n",
    "        move_proba = self.get_proba(self.move_model, pair.move_df)\n",
    "        cast_proba = self.get_proba(self.cast_model, pair.cast_df)\n",
    "        \n",
    "        return [attack_proba[1], move_proba[1], cast_proba[1]]\n",
    "        \n",
    "    def predict(self, pairs):\n",
    "        probabilities = [self.get_all_probas(pair) for pair in pairs]\n",
    "        return self.network.predict(probabilities)"
   ]
  },
  {
   "cell_type": "code",
   "execution_count": null,
   "metadata": {},
   "outputs": [],
   "source": [
    "path = \"/cs/scratch/sy35/dota-data/tmp\"\n",
    "pairs = get_pairs(path)\n",
    "ys = get_ys(pairs)\n",
    "splits = 3"
   ]
  },
  {
   "cell_type": "code",
   "execution_count": null,
   "metadata": {},
   "outputs": [],
   "source": [
    "X, y = sample(pairs, ys, 0.5)"
   ]
  },
  {
   "cell_type": "code",
   "execution_count": null,
   "metadata": {},
   "outputs": [],
   "source": [
    "pc = PairClassifier(LogisticRegression(), LogisticRegression(), LogisticRegression(), (3,))"
   ]
  },
  {
   "cell_type": "code",
   "execution_count": null,
   "metadata": {},
   "outputs": [],
   "source": [
    "pc.train(X, y, 2)"
   ]
  },
  {
   "cell_type": "code",
   "execution_count": null,
   "metadata": {},
   "outputs": [],
   "source": []
  }
 ],
 "metadata": {
  "kernelspec": {
   "display_name": "dota",
   "language": "python",
   "name": "dota"
  },
  "language_info": {
   "codemirror_mode": {
    "name": "ipython",
    "version": 2
   },
   "file_extension": ".py",
   "mimetype": "text/x-python",
   "name": "python",
   "nbconvert_exporter": "python",
   "pygments_lexer": "ipython2",
   "version": "2.7.15"
  }
 },
 "nbformat": 4,
 "nbformat_minor": 2
}
