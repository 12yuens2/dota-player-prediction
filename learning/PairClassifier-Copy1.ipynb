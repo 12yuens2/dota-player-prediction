{
 "cells": [
  {
   "cell_type": "code",
   "execution_count": 4,
   "metadata": {},
   "outputs": [],
   "source": [
    "%run pair_classifier.py"
   ]
  },
  {
   "cell_type": "code",
   "execution_count": 5,
   "metadata": {},
   "outputs": [],
   "source": [
    "import itertools\n",
    "import os\n",
    "import ntpath\n",
    "\n",
    "def get_pair_names(path):\n",
    "    files = [\"{}/{}\".format(path, file) for file in os.listdir(path)]\n",
    "    return list(itertools.permutations(files, 2))\n",
    "\n",
    "def get_pairs(pair_names, splits):\n",
    "    return [Pair(pair, splits) for pair in pair_names]\n",
    "\n",
    "def get_playerid(name):\n",
    "    return ntpath.basename(name)[:17]\n",
    "\n",
    "def is_same_player(id1, id2):\n",
    "    return 1 if id1 == id2 else 0\n",
    "\n",
    "def get_ys(pairs):\n",
    "    return [\n",
    "        is_same_player(get_playerid(file0), get_playerid(file1))\n",
    "        for file0,file1 in pairs\n",
    "    ]\n"
   ]
  },
  {
   "cell_type": "code",
   "execution_count": 6,
   "metadata": {},
   "outputs": [],
   "source": [
    "import random\n",
    "\n",
    "def sample_filter(sample, prob):\n",
    "    if sample[1] == 0:\n",
    "        if random.random() < prob:\n",
    "            return False\n",
    "        else:\n",
    "            return True\n",
    "    else:\n",
    "        return False\n",
    "\n",
    "def sample(X, y):\n",
    "    prob = float(y.count(1))/float(y.count(0))\n",
    "    combine = [(X[i], y[i]) for i in range(len(X))]\n",
    "    sample = [s for s in combine if not sample_filter(s, prob)]\n",
    "    \n",
    "    return map(list, zip(*sample))\n",
    "\n",
    "def count_sample(x):\n",
    "    negatives = x.count(0)\n",
    "    positives = x.count(1)\n",
    "    return \"{} negative samples and {} positive samples\".format(negatives, positives)"
   ]
  },
  {
   "cell_type": "code",
   "execution_count": 7,
   "metadata": {},
   "outputs": [],
   "source": [
    "from sklearn.model_selection import StratifiedKFold\n",
    "\n",
    "def ml(X, y, pc, cv, split_num):\n",
    "    skf = StratifiedKFold(cv)\n",
    "\n",
    "    for train_index, test_index in skf.split(X, y):\n",
    "        X_train = [X[i] for i in train_index]\n",
    "        X_test = [X[i] for i in test_index]\n",
    "        y_train = [y[i] for i in train_index]\n",
    "        y_test = [y[i] for i in test_index]\n",
    "\n",
    "        pc.train(X_train, y_train, split_num)\n",
    "        pc.test(X_test, y_test, split_num)\n",
    "        \n",
    "def ml_split(X, y, model, cv, splits):\n",
    "    for i in range(splits):\n",
    "        print(\"split {}\".format(i))\n",
    "        ml(X, y, model, cv, i)\n",
    "        \n",
    "    print(\"all\")\n",
    "    ml(X, y, model, cv, -1)"
   ]
  },
  {
   "cell_type": "code",
   "execution_count": 8,
   "metadata": {},
   "outputs": [],
   "source": [
    "import sys\n",
    "\n",
    "#path = sys.argv[1]\n",
    "path = \"/cs/scratch/sy35/dota-data/20/data/mouseaction\"\n",
    "pairs = get_pair_names(path)\n",
    "ys = get_ys(pairs)"
   ]
  },
  {
   "cell_type": "code",
   "execution_count": 9,
   "metadata": {},
   "outputs": [],
   "source": [
    "pair_names, y = sample(pairs, ys)"
   ]
  },
  {
   "cell_type": "code",
   "execution_count": 10,
   "metadata": {},
   "outputs": [
    {
     "data": {
      "text/plain": [
       "'311 negative samples and 320 positive samples'"
      ]
     },
     "execution_count": 10,
     "metadata": {},
     "output_type": "execute_result"
    }
   ],
   "source": [
    "count_sample(y)"
   ]
  },
  {
   "cell_type": "code",
   "execution_count": null,
   "metadata": {},
   "outputs": [],
   "source": [
    "pairs1 = get_pairs(pair_names, 1)"
   ]
  },
  {
   "cell_type": "code",
   "execution_count": 8,
   "metadata": {},
   "outputs": [],
   "source": [
    "pairs2 = get_pairs(pair_names, 2)"
   ]
  },
  {
   "cell_type": "code",
   "execution_count": null,
   "metadata": {},
   "outputs": [],
   "source": [
    "pairs3 = get_pairs(pair_names, 3)"
   ]
  },
  {
   "cell_type": "code",
   "execution_count": null,
   "metadata": {},
   "outputs": [],
   "source": [
    "pairs5 = get_pairs(pair_names, 5)"
   ]
  },
  {
   "cell_type": "code",
   "execution_count": null,
   "metadata": {},
   "outputs": [],
   "source": []
  },
  {
   "cell_type": "code",
   "execution_count": 9,
   "metadata": {},
   "outputs": [],
   "source": [
    "from sklearn.linear_model import LogisticRegression\n",
    "from sklearn.ensemble import RandomForestClassifier\n",
    "from sklearn.neural_network import MLPClassifier\n",
    "\n",
    "lr = PairClassifier(LogisticRegression(class_weight=\"balanced\"), \n",
    "                    LogisticRegression(class_weight=\"balanced\"), \n",
    "                    LogisticRegression(class_weight=\"balanced\"), \n",
    "                    (3,))\n",
    "\n",
    "rf = PairClassifier(RandomForestClassifier(class_weight=\"balanced\"), \n",
    "                    RandomForestClassifier(class_weight=\"balanced\"), \n",
    "                    RandomForestClassifier(class_weight=\"balanced\"), \n",
    "                    (3,))\n",
    "\n",
    "clf = PairClassifier(MLPClassifier(solver=\"lbfgs\", alpha=0.001, hidden_layer_sizes=(256,64,)),\n",
    "                     MLPClassifier(solver=\"lbfgs\", alpha=0.001, hidden_layer_sizes=(256,64,)),\n",
    "                     MLPClassifier(solver=\"lbfgs\", alpha=0.001, hidden_layer_sizes=(256,64,)),\n",
    "                     (3,))\n"
   ]
  },
  {
   "cell_type": "code",
   "execution_count": 12,
   "metadata": {},
   "outputs": [
    {
     "name": "stdout",
     "output_type": "stream",
     "text": [
      "lr pairs2\n",
      "split 0\n",
      "Accuracy: 0.463768115942, Precision: 0.457142857143, Recall: 0.470588235294\n",
      "Accuracy: 0.449275362319, Precision: 0.423076923077, Recall: 0.323529411765\n",
      "Accuracy: 0.411764705882, Precision: 0.425, Recall: 0.5\n",
      "Accuracy: 0.514705882353, Precision: 0.516129032258, Recall: 0.470588235294\n",
      "Accuracy: 0.514705882353, Precision: 0.513513513514, Recall: 0.558823529412\n",
      "split 1\n",
      "Accuracy: 0.507246376812, Precision: 0.5, Recall: 0.5\n",
      "Accuracy: 0.449275362319, Precision: 0.4375, Recall: 0.411764705882\n",
      "Accuracy: 0.338235294118, Precision: 0.387755102041, Recall: 0.558823529412\n",
      "Accuracy: 0.529411764706, Precision: 0.545454545455, Recall: 0.352941176471\n",
      "Accuracy: 0.411764705882, Precision: 0.4, Recall: 0.352941176471\n",
      "all\n",
      "Accuracy: 0.463768115942, Precision: 0.457142857143, Recall: 0.470588235294\n",
      "Accuracy: 0.449275362319, Precision: 0.423076923077, Recall: 0.323529411765\n",
      "Accuracy: 0.411764705882, Precision: 0.425, Recall: 0.5\n",
      "Accuracy: 0.514705882353, Precision: 0.516129032258, Recall: 0.470588235294\n",
      "Accuracy: 0.514705882353, Precision: 0.513513513514, Recall: 0.558823529412\n"
     ]
    }
   ],
   "source": [
    "print(\"lr pairs2\")\n",
    "ml_split(pairs2, y, lr, 5, 2)"
   ]
  },
  {
   "cell_type": "code",
   "execution_count": 11,
   "metadata": {},
   "outputs": [
    {
     "name": "stdout",
     "output_type": "stream",
     "text": [
      "rf pairs2\n",
      "split 0\n",
      "Accuracy: 0.608695652174, Precision: 0.62962962963, Recall: 0.5\n",
      "Accuracy: 0.608695652174, Precision: 0.606060606061, Recall: 0.588235294118\n",
      "Accuracy: 0.647058823529, Precision: 0.631578947368, Recall: 0.705882352941\n",
      "Accuracy: 0.720588235294, Precision: 0.674418604651, Recall: 0.852941176471\n",
      "Accuracy: 0.661764705882, Precision: 0.617021276596, Recall: 0.852941176471\n",
      "split 1\n",
      "Accuracy: 0.594202898551, Precision: 0.588235294118, Recall: 0.588235294118\n",
      "Accuracy: 0.623188405797, Precision: 0.586956521739, Recall: 0.794117647059\n",
      "Accuracy: 0.661764705882, Precision: 0.648648648649, Recall: 0.705882352941\n",
      "Accuracy: 0.735294117647, Precision: 0.681818181818, Recall: 0.882352941176\n",
      "Accuracy: 0.632352941176, Precision: 0.595744680851, Recall: 0.823529411765\n",
      "all\n",
      "Accuracy: 0.594202898551, Precision: 0.583333333333, Recall: 0.617647058824\n",
      "Accuracy: 0.579710144928, Precision: 0.560975609756, Recall: 0.676470588235\n",
      "Accuracy: 0.676470588235, Precision: 0.714285714286, Recall: 0.588235294118\n",
      "Accuracy: 0.720588235294, Precision: 0.674418604651, Recall: 0.852941176471\n",
      "Accuracy: 0.705882352941, Precision: 0.675, Recall: 0.794117647059\n"
     ]
    }
   ],
   "source": [
    "print(\"rf pairs2\")\n",
    "ml_split(pairs2, y, rf, 5, 2)"
   ]
  },
  {
   "cell_type": "code",
   "execution_count": 1,
   "metadata": {},
   "outputs": [
    {
     "name": "stdout",
     "output_type": "stream",
     "text": [
      "mlp pairs2\n"
     ]
    },
    {
     "ename": "NameError",
     "evalue": "name 'ml_split' is not defined",
     "output_type": "error",
     "traceback": [
      "\u001b[0;31m---------------------------------------------------------------------------\u001b[0m",
      "\u001b[0;31mNameError\u001b[0m                                 Traceback (most recent call last)",
      "\u001b[0;32m<ipython-input-1-09f5002c15c6>\u001b[0m in \u001b[0;36m<module>\u001b[0;34m()\u001b[0m\n\u001b[1;32m      1\u001b[0m \u001b[0;32mprint\u001b[0m\u001b[0;34m(\u001b[0m\u001b[0;34m\"mlp pairs2\"\u001b[0m\u001b[0;34m)\u001b[0m\u001b[0;34m\u001b[0m\u001b[0m\n\u001b[0;32m----> 2\u001b[0;31m \u001b[0mml_split\u001b[0m\u001b[0;34m(\u001b[0m\u001b[0mpairs2\u001b[0m\u001b[0;34m,\u001b[0m \u001b[0my\u001b[0m\u001b[0;34m,\u001b[0m \u001b[0mclf\u001b[0m\u001b[0;34m,\u001b[0m \u001b[0;36m5\u001b[0m\u001b[0;34m,\u001b[0m \u001b[0;36m2\u001b[0m\u001b[0;34m)\u001b[0m\u001b[0;34m\u001b[0m\u001b[0m\n\u001b[0m",
      "\u001b[0;31mNameError\u001b[0m: name 'ml_split' is not defined"
     ]
    }
   ],
   "source": [
    "print(\"mlp pairs2\")\n",
    "ml_split(pairs2, y, clf, 5, 2)"
   ]
  },
  {
   "cell_type": "code",
   "execution_count": null,
   "metadata": {},
   "outputs": [],
   "source": [
    "#print(\"rf pairs5\")\n",
    "#ml_split(pairs5, y, rf, 5, 5)"
   ]
  },
  {
   "cell_type": "code",
   "execution_count": null,
   "metadata": {},
   "outputs": [],
   "source": [
    "#print(\"lr pairs10\")\n",
    "#ml_split(pairs10, y, lr, 5, 10)"
   ]
  },
  {
   "cell_type": "code",
   "execution_count": null,
   "metadata": {},
   "outputs": [],
   "source": [
    "#print(\"rf pairs10\")\n",
    "#ml_split(pairs109, y, rf, 5, 10)"
   ]
  }
 ],
 "metadata": {
  "kernelspec": {
   "display_name": "dota",
   "language": "python",
   "name": "dota"
  },
  "language_info": {
   "codemirror_mode": {
    "name": "ipython",
    "version": 2
   },
   "file_extension": ".py",
   "mimetype": "text/x-python",
   "name": "python",
   "nbconvert_exporter": "python",
   "pygments_lexer": "ipython2",
   "version": "2.7.15"
  }
 },
 "nbformat": 4,
 "nbformat_minor": 2
}
