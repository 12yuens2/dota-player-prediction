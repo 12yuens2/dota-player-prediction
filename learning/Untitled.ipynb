{
 "cells": [
  {
   "cell_type": "code",
   "execution_count": 1,
   "metadata": {},
   "outputs": [],
   "source": [
    "import pandas as pd\n",
    "\n",
    "def get_action_df(raw_df, action):\n",
    "    return raw_df.loc[raw_df[\"actionType\"] == action].drop(\"actionType\", 1)\n",
    "\n",
    "\n",
    "def is_filter_player(steam_id, filter_id):\n",
    "    if steam_id == filter_id:\n",
    "        return 1\n",
    "    else:\n",
    "        return 0\n",
    "    \n",
    "def get_dfs(csvpath, dropna=True):\n",
    "    raw_df = pd.read_csv(csvpath)\n",
    "    if dropna:\n",
    "        raw_df = raw_df.dropna()\n",
    "    \n",
    "    attack_df = get_action_df(raw_df, \"ATTACK\")\n",
    "    move_df = get_action_df(raw_df, \"MOVE\")\n",
    "    cast_df = get_action_df(raw_df, \"CAST\")\n",
    "\n",
    "    return attack_df, move_df, cast_df"
   ]
  },
  {
   "cell_type": "code",
   "execution_count": 7,
   "metadata": {},
   "outputs": [],
   "source": [
    "from sklearn.linear_model import LogisticRegression\n",
    "from sklearn.metrics import accuracy_score\n",
    "from sklearn.metrics import confusion_matrix\n",
    "from sklearn.metrics import precision_score\n",
    "from sklearn.metrics import recall_score\n",
    "from sklearn.model_selection import train_test_split\n",
    "\n",
    "\n",
    "def split_data(df, filterID, test_size=0.3):\n",
    "    y = df[\"steamid\"].map(lambda steamid: is_filter_player(steamid, filterID))\n",
    "    \n",
    "    return train_test_split(df.drop(\"steamid\", 1), y,\n",
    "                           stratify=y, test_size=test_size, random_state=99)\n",
    "\n",
    "def logistic_regression(X, y):\n",
    "    lr = LogisticRegression()\n",
    "    lr.fit(X, y)\n",
    "    \n",
    "    return lr\n",
    "\n",
    "def get_scores(lr, X, y):\n",
    "    predictions = lr.predict(X)\n",
    "    \n",
    "    accuracy = accuracy_score(y, predictions)\n",
    "    precision = precision_score(y, predictions)\n",
    "    recall = recall_score(y, predictions)\n",
    "    \n",
    "    return accuracy, precision, recall\n"
   ]
  },
  {
   "cell_type": "code",
   "execution_count": 8,
   "metadata": {},
   "outputs": [],
   "source": [
    "def ml(csvpath, filter_id):\n",
    "    # Create dataframes\n",
    "    attack_df, move_df, cast_df = get_dfs(csvpath)\n",
    "    print(\"Got {} attacks, {} moves, {} casts\".format(len(attack_df.index), len(move_df.index), len(cast_df.index)))\n",
    "\n",
    "    # Run through learning model\n",
    "    for name,df in [(\"ATTACK\",attack_df), (\"MOVE\", move_df), (\"CAST\", cast_df)]:\n",
    "        X_train, X_test, y_train, y_test = split_data(df, filter_id, test_size=0.5)\n",
    "        \n",
    "        lr = logistic_regression(X_train, y_train)\n",
    "        accuracy, precision, recall = get_scores(lr, X_test, y_test)\n",
    "        print(\"{} - Accuracy: {}, Precision: {}, Recall: {}\".format(name, accuracy, precision, recall))"
   ]
  },
  {
   "cell_type": "code",
   "execution_count": 9,
   "metadata": {},
   "outputs": [
    {
     "name": "stdout",
     "output_type": "stream",
     "text": [
      "Got 52904 attacks, 252964 moves, 5571 casts\n",
      "ATTACK - Accuracy: 0.9351277786178739, Precision: 0.8916429408809244, Recall: 0.8327858595338652\n",
      "MOVE - Accuracy: 0.9090937840957607, Precision: 0.8682067158847344, Recall: 0.8594059405940594\n",
      "CAST - Accuracy: 0.9300071787508973, Precision: 0.8125, Recall: 0.7878787878787878\n"
     ]
    }
   ],
   "source": [
    "# Spectre\n",
    "filterID = 76561198051158462\n",
    "ml(\"/cs/scratch/sy35/dota-data/67/67-mouseaction.csv\", filterID)"
   ]
  },
  {
   "cell_type": "code",
   "execution_count": 10,
   "metadata": {},
   "outputs": [
    {
     "name": "stdout",
     "output_type": "stream",
     "text": [
      "Got 19553 attacks, 268340 moves, 3481 casts\n",
      "ATTACK - Accuracy: 0.8073028536360847, Precision: 0.7539370078740157, Recall: 0.6033396345305608\n",
      "MOVE - Accuracy: 0.7851904300514273, Precision: 0.7846318551244741, Recall: 0.7816264607804849\n",
      "CAST - Accuracy: 0.8012636415852958, Precision: 0.7787742899850523, Recall: 0.7246175243393602\n"
     ]
    }
   ],
   "source": [
    "# Pudge\n",
    "filterID = 76561198119286646\n",
    "ml(\"/cs/scratch/sy35/dota-data/14/14-mouseaction.csv\", filterID)"
   ]
  }
 ],
 "metadata": {
  "kernelspec": {
   "display_name": "Python 3",
   "language": "python",
   "name": "python3"
  },
  "language_info": {
   "codemirror_mode": {
    "name": "ipython",
    "version": 3
   },
   "file_extension": ".py",
   "mimetype": "text/x-python",
   "name": "python",
   "nbconvert_exporter": "python",
   "pygments_lexer": "ipython3",
   "version": "3.6.6"
  }
 },
 "nbformat": 4,
 "nbformat_minor": 2
}
