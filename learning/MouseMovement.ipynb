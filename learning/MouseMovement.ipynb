{
 "cells": [
  {
   "cell_type": "code",
   "execution_count": 14,
   "metadata": {},
   "outputs": [],
   "source": [
    "import seaborn"
   ]
  },
  {
   "cell_type": "code",
   "execution_count": 15,
   "metadata": {},
   "outputs": [],
   "source": [
    "import pandas as pd\n",
    "\n",
    "def get_action_df(raw_df, action):\n",
    "    return raw_df.loc[raw_df[\"actionType\"] == action].drop(\"actionType\", 1)\n",
    "\n",
    "\n",
    "def is_filter_player(steam_id, filter_id):\n",
    "    if steam_id == filter_id:\n",
    "        return 1\n",
    "    else:\n",
    "        return 0\n",
    "    \n",
    "def get_dfs(csvpath, dropna=True):\n",
    "    raw_df = pd.read_csv(csvpath)\n",
    "    if dropna:\n",
    "        raw_df = raw_df.dropna()\n",
    "    \n",
    "    attack_df = get_action_df(raw_df, \"ATTACK\")\n",
    "    move_df = get_action_df(raw_df, \"MOVE\")\n",
    "    cast_df = get_action_df(raw_df, \"CAST\")\n",
    "\n",
    "    return attack_df, move_df, cast_df"
   ]
  },
  {
   "cell_type": "code",
   "execution_count": 16,
   "metadata": {},
   "outputs": [],
   "source": [
    "from sklearn.metrics import accuracy_score\n",
    "from sklearn.metrics import confusion_matrix\n",
    "from sklearn.metrics import precision_score\n",
    "from sklearn.metrics import recall_score\n",
    "from sklearn.model_selection import train_test_split\n",
    "\n",
    "\n",
    "def split_data(df, filterID, test_size=0.01):\n",
    "    y = df[\"steamid\"].map(lambda steamid: is_filter_player(steamid, filterID))\n",
    "    \n",
    "    return train_test_split(df.drop(\"steamid\", 1), y,\n",
    "                           stratify=y, test_size=test_size, random_state=99)\n",
    "\n",
    "def fit_model(model, X, y):\n",
    "    model.fit(X, y)\n",
    "    \n",
    "    return model\n",
    "\n",
    "def get_scores(model, X, y):\n",
    "    predictions = model.predict(X)\n",
    "    \n",
    "    accuracy = accuracy_score(y, predictions)\n",
    "    precision = precision_score(y, predictions)\n",
    "    recall = recall_score(y, predictions)\n",
    "    \n",
    "    return accuracy, precision, recall"
   ]
  },
  {
   "cell_type": "code",
   "execution_count": 17,
   "metadata": {},
   "outputs": [],
   "source": [
    "from sklearn.linear_model import LogisticRegression\n",
    "from sklearn.ensemble import RandomForestClassifier\n",
    "from sklearn.tree import DecisionTreeClassifier\n",
    "\n",
    "def print_scores(model, X_test, y_test, name):\n",
    "    accuracy, precision, recall = get_scores(model, X_test, y_test)\n",
    "    print(\"{} - Accuracy: {}, Precision: {}, Recall: {}\".format(name, accuracy, precision, recall)) \n",
    "\n",
    "    \n",
    "def ml(csvpath, filter_id):\n",
    "    # Create dataframes\n",
    "    attack_df, move_df, cast_df = get_dfs(csvpath)\n",
    "    print(\"Got {} attacks, {} moves, {} casts\\n\".format(len(attack_df.index), len(move_df.index), len(cast_df.index)))\n",
    "\n",
    "    models = {}\n",
    "    \n",
    "    # Run through learning model\n",
    "    for name,df in [(\"ATTACK\",attack_df), (\"MOVE\", move_df), (\"CAST\", cast_df)]:\n",
    "        X_train, X_test, y_train, y_test = split_data(df, filter_id, test_size=0.5)\n",
    "        \n",
    "        lr = fit_model(LogisticRegression(class_weight={0:.7, 1: 1}), X_train, y_train)\n",
    "        #rf = fit_model(RandomForestClassifier(), X_train, y_train)\n",
    "        #tree = fit_model(DecisionTreeClassifier(), X_train, y_train)\n",
    "        \n",
    "        models[name] = (lr) #(lr, rf, tree)\n",
    "        \n",
    "        print_scores(lr, X_test, y_test, \"LR {}\".format(name))\n",
    "        #print_scores(rf, X_test, y_test, \"RF {}\".format(name))\n",
    "        #print_scores(tree, X_test, y_test, \"Tree {}\".format(name))\n",
    "        print(\"----\")\n",
    "    \n",
    "    return models\n"
   ]
  },
  {
   "cell_type": "code",
   "execution_count": 18,
   "metadata": {},
   "outputs": [],
   "source": [
    "# Evaluation\n",
    "from sklearn.metrics import confusion_matrix\n",
    "import seaborn as sn\n",
    "import matplotlib.pyplot as plt\n",
    "\n",
    "def plot_confusion_matrix(cm, title):\n",
    "    df_cm = pd.DataFrame(cm)\n",
    "    fig = plt.figure(figsize=(10,7))\n",
    "    fig.suptitle(title)\n",
    "    sn.heatmap(df_cm, cmap=\"Blues\", annot=True, fmt=\"g\")\n",
    "\n",
    "def evaluate(csvpath):\n",
    "    attack_df, move_df, cast_df = get_dfs(csvpath)\n",
    "\n",
    "    for name,eval_df in [(\"ATTACK\", attack_df),(\"MOVE\", move_df), (\"CAST\", cast_df)]:\n",
    "        _, X_test, _, y_test = split_data(eval_df, filterID, test_size=0.99)\n",
    "        \n",
    "        model = models[name]\n",
    "        #for model in models[name]:\n",
    "        print_scores(model, X_test, y_test, name)\n",
    "        pred = model.predict(X_test)\n",
    "        cm = confusion_matrix(y_test, pred)\n",
    "        plot_confusion_matrix(cm, \"{} confusion matrix\".format(name))"
   ]
  },
  {
   "cell_type": "code",
   "execution_count": 19,
   "metadata": {},
   "outputs": [],
   "source": [
    "# Spectre\n",
    "#filterID = 76561198051158462\n",
    "#ml(\"/cs/scratch/sy35/dota-data/67-mouseaction.csv\", filterID)"
   ]
  },
  {
   "cell_type": "code",
   "execution_count": 20,
   "metadata": {},
   "outputs": [
    {
     "name": "stdout",
     "output_type": "stream",
     "text": [
      "Got 19553 attacks, 268340 moves, 3481 casts\n",
      "\n",
      "LR ATTACK - Accuracy: 0.7899151068835021, Precision: 0.6745635910224439, Recall: 0.6817895400126024\n",
      "----\n",
      "LR MOVE - Accuracy: 0.7678765744950437, Precision: 0.7310129883678472, Recall: 0.8420254153273049\n",
      "----\n",
      "LR CAST - Accuracy: 0.7886272257323378, Precision: 0.7158671586715867, Recall: 0.8094575799721836\n",
      "----\n"
     ]
    }
   ],
   "source": [
    "# Pudge\n",
    "#Got 19553 attacks, 268340 moves, 3481 casts\n",
    "filterID = 76561198119286646\n",
    "models = ml(\"/cs/scratch/sy35/dota-data/14-mouseaction.csv\", filterID)"
   ]
  },
  {
   "cell_type": "code",
   "execution_count": null,
   "metadata": {
    "scrolled": false
   },
   "outputs": [],
   "source": [
    "evaluate(\"/cs/scratch/sy35/dota-data/14/evaluation.csv\")"
   ]
  }
 ],
 "metadata": {
  "kernelspec": {
   "display_name": "ml",
   "language": "python",
   "name": "ml"
  },
  "language_info": {
   "codemirror_mode": {
    "name": "ipython",
    "version": 3
   },
   "file_extension": ".py",
   "mimetype": "text/x-python",
   "name": "python",
   "nbconvert_exporter": "python",
   "pygments_lexer": "ipython3",
   "version": "3.6.6"
  }
 },
 "nbformat": 4,
 "nbformat_minor": 2
}
