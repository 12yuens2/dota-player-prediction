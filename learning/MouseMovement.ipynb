{
 "cells": [
  {
   "cell_type": "code",
   "execution_count": 1,
   "metadata": {},
   "outputs": [],
   "source": [
    "import seaborn"
   ]
  },
  {
   "cell_type": "code",
   "execution_count": 2,
   "metadata": {},
   "outputs": [],
   "source": [
    "import pandas as pd\n",
    "\n",
    "def get_action_df(raw_df, action):\n",
    "    return raw_df.loc[raw_df[\"actionType\"] == action].drop(\"actionType\", 1)\n",
    "\n",
    "\n",
    "def is_filter_player(steam_id, filter_id):\n",
    "    if steam_id == filter_id:\n",
    "        return 1\n",
    "    else:\n",
    "        return 0\n",
    "    \n",
    "def get_dfs(csvpath, dropna=True):\n",
    "    raw_df = pd.read_csv(csvpath)\n",
    "    if dropna:\n",
    "        raw_df = raw_df.dropna()\n",
    "    \n",
    "    attack_df = get_action_df(raw_df, \"ATTACK\")\n",
    "    move_df = get_action_df(raw_df, \"MOVE\")\n",
    "    cast_df = get_action_df(raw_df, \"CAST\")\n",
    "\n",
    "    return attack_df, move_df, cast_df"
   ]
  },
  {
   "cell_type": "code",
   "execution_count": 3,
   "metadata": {},
   "outputs": [],
   "source": [
    "from sklearn.metrics import accuracy_score\n",
    "from sklearn.metrics import confusion_matrix\n",
    "from sklearn.metrics import precision_score\n",
    "from sklearn.metrics import recall_score\n",
    "from sklearn.model_selection import train_test_split\n",
    "\n",
    "\n",
    "def split_data(df, filterID, test_size=0.01):\n",
    "    y = df[\"steamid\"].map(lambda steamid: is_filter_player(steamid, filterID))\n",
    "    \n",
    "    return train_test_split(df.drop(\"steamid\", 1), y,\n",
    "                           stratify=y, test_size=test_size, random_state=99)\n",
    "\n",
    "def fit_model(model, X, y):\n",
    "    model.fit(X, y)\n",
    "    \n",
    "    return model\n",
    "\n",
    "def get_scores(model, X, y):\n",
    "    predictions = model.predict(X)\n",
    "    \n",
    "    accuracy = accuracy_score(y, predictions)\n",
    "    precision = precision_score(y, predictions)\n",
    "    recall = recall_score(y, predictions)\n",
    "    \n",
    "    return accuracy, precision, recall"
   ]
  },
  {
   "cell_type": "code",
   "execution_count": 73,
   "metadata": {},
   "outputs": [],
   "source": [
    "import pandas as pd\n",
    "from sklearn.model_selection import KFold\n",
    "from sklearn.metrics import accuracy_score\n",
    "\n",
    "def get_action_df(raw_df, action):\n",
    "    return raw_df.loc[raw_df[\"actionType\"] == action].drop(\"actionType\", 1)\n",
    "\n",
    "\n",
    "def is_filter_player(steam_id, filter_id):\n",
    "    if steam_id == filter_id:\n",
    "        return 1\n",
    "    else:\n",
    "        return 0\n",
    "    \n",
    "def get_dfs(csvpath, dropna=True):\n",
    "    raw_df = pd.read_csv(csvpath)\n",
    "    if dropna:\n",
    "        raw_df = raw_df.dropna()\n",
    "    \n",
    "    attack_df = get_action_df(raw_df, \"ATTACK\")\n",
    "    move_df = get_action_df(raw_df, \"MOVE\")\n",
    "    cast_df = get_action_df(raw_df, \"CAST\")\n",
    "\n",
    "    return attack_df, move_df, cast_df\n",
    "\n",
    "\n",
    "class Game:\n",
    "\n",
    "    def __init__(self, csv_file):\n",
    "        a, m, c = get_dfs(csv_file)\n",
    "\n",
    "        self.attack_df = a\n",
    "        self.move_df = m\n",
    "        self.cast_df = c\n",
    "\n",
    "\n",
    "\n",
    "class GameClassifier:\n",
    "\n",
    "    def __init__(self, filter_id, attack_model, move_model, cast_model):\n",
    "        self.filter_id = filter_id\n",
    "        self.attack_model = attack_model\n",
    "        self.move_model = move_model\n",
    "        self.cast_model = cast_model\n",
    "\n",
    "\n",
    "    def cross_validate(self, games, ys, splits=3):\n",
    "        kf = KFold(n_splits=splits)\n",
    "        for train, test in kf.split(games):\n",
    "            training_games, testing_games = games[train], games[test]\n",
    "\n",
    "            for model,train_df,test_df in self.concat_data(training_games, testing_games):\n",
    "                self.fit(model, train_df)\n",
    "\n",
    "\n",
    "    def concat_data(self, training_games, testing_games, drop_steamid=False):\n",
    "        train_attack_df, train_move_df, train_cast_df = self.concat_games(training_games, drop_steamid)\n",
    "        test_attack_df, test_move_df, test_cast_df = self.concat_games(testing_games, drop_steamid)\n",
    "\n",
    "        return ((self.attack_model,train_attack_df,test_attack_df),\n",
    "                (self.move_model,train_move_df,test_move_df),\n",
    "                (self.cast_model,train_cast_df,test_cast_df))\n",
    "\n",
    "\n",
    "    def concat_games(self, games, drop_steamid):\n",
    "        attack_df = pd.concat([game.attack_df for game in games])\n",
    "        move_df = pd.concat([game.move_df for game in games])\n",
    "        cast_df = pd.concat([game.cast_df for game in games])\n",
    "\n",
    "        dfs = (attack_df, move_df, cast_df)\n",
    "        if drop_steamid:\n",
    "            return tuple(map(lambda df: df.drop(\"steamid\", 1), dfs))\n",
    "        else:\n",
    "            return dfs\n",
    "\n",
    "\n",
    "    def concat_ys(self, games):\n",
    "        attack_df, move_df, cast_df = concat_games(games, False)\n",
    "\n",
    "        return get_y(attack_df), get_y(move_df), get_y(cast_df)\n",
    "\n",
    "\n",
    "    def get_y(self, df):\n",
    "        return df[\"steamid\"].map(lambda steamid: is_filter_player(steamid, self.filter_id))\n",
    "\n",
    "    \n",
    "    def fit(self, model, df):\n",
    "        y = df[\"steamid\"].map(lambda steamid: is_filter_player(steamid, self.filter_id))\n",
    "        #X = df.drop(\"steamid\", 1)\n",
    "        model.fit(df, y)\n",
    "\n",
    "\n",
    "    def get_scores(self, model, X, y):\n",
    "        predictions = model.predict(X)\n",
    "        return accuracy_score(y, predictions)\n",
    "\n",
    "\n",
    "    def predict(self, games):\n",
    "        attack_ys, move_ys, cast_ys = self.concat_ys(games)\n",
    "        attack_df, move_df, cast_df = self.concat_games(games, True)\n",
    "\n",
    "        attack_score = self.get_scores(attack_model, attack_df, attack_ys)\n",
    "        move_score = self.get_scores(move_model, move_df, move_ys)\n",
    "        cast_score = self.get_scores(cast_model, cast_df, cast_ys)\n",
    "\n",
    "        if attack_score + move_score + cast_score > 1.5:\n",
    "            return 1\n",
    "        else:\n",
    "            return 0"
   ]
  },
  {
   "cell_type": "code",
   "execution_count": null,
   "metadata": {},
   "outputs": [],
   "source": []
  },
  {
   "cell_type": "code",
   "execution_count": 52,
   "metadata": {},
   "outputs": [],
   "source": [
    "from sklearn.linear_model import LogisticRegression\n",
    "from sklearn.ensemble import RandomForestClassifier\n",
    "from sklearn.tree import DecisionTreeClassifier\n",
    "\n",
    "def print_scores(model, X_test, y_test, name):\n",
    "    accuracy, precision, recall = get_scores(model, X_test, y_test)\n",
    "    print(\"{} - Accuracy: {}, Precision: {}, Recall: {}\".format(name, accuracy, precision, recall)) \n",
    "\n",
    "    \n",
    "def ml(csvpath, filter_id):\n",
    "    # Create dataframes\n",
    "    attack_df, move_df, cast_df = get_dfs(csvpath)\n",
    "    print(\"Got {} attacks, {} moves, {} casts\\n\".format(len(attack_df.index), len(move_df.index), len(cast_df.index)))\n",
    "\n",
    "    models = {}\n",
    "    \n",
    "    # Run through learning model\n",
    "    for name,df in [(\"ATTACK\",attack_df), (\"MOVE\", move_df), (\"CAST\", cast_df)]:\n",
    "        X_train, X_test, y_train, y_test = split_data(df, filter_id, test_size=0.5)\n",
    "        \n",
    "        lr = fit_model(LogisticRegression(class_weight={0:.7, 1: 1}), X_train, y_train)\n",
    "        #rf = fit_model(RandomForestClassifier(), X_train, y_train)\n",
    "        #tree = fit_model(DecisionTreeClassifier(), X_train, y_train)\n",
    "        \n",
    "        models[name] = (lr) #(lr, rf, tree)\n",
    "        \n",
    "        print_scores(lr, X_test, y_test, \"LR {}\".format(name))\n",
    "        #print_scores(rf, X_test, y_test, \"RF {}\".format(name))\n",
    "        #print_scores(tree, X_test, y_test, \"Tree {}\".format(name))\n",
    "        print(\"----\")\n",
    "    \n",
    "    return models\n"
   ]
  },
  {
   "cell_type": "code",
   "execution_count": 53,
   "metadata": {},
   "outputs": [],
   "source": [
    "# Evaluation\n",
    "from sklearn.metrics import confusion_matrix\n",
    "import seaborn as sn\n",
    "import matplotlib.pyplot as plt\n",
    "\n",
    "def plot_confusion_matrix(cm):\n",
    "    df_cm = pd.DataFrame(cm)\n",
    "    fig = plt.figure(figsize=(10,7))\n",
    "    sn.heatmap(df_cm, cmap=\"Blues\", annot=True, fmt=\"g\")\n",
    "\n",
    "def evaluate(csvpath):\n",
    "    attack_df, move_df, cast_df = get_dfs(csvpath)\n",
    "\n",
    "    for name,eval_df in [(\"ATTACK\", attack_df),(\"MOVE\", move_df), (\"CAST\", cast_df)]:\n",
    "        _, X_test, _, y_test = split_data(eval_df, filterID, test_size=0.99)\n",
    "        \n",
    "        model = models[name]\n",
    "        #for model in models[name]:\n",
    "        print_scores(model, X_test, y_test, name)\n",
    "        pred = model.predict(X_test)\n",
    "        cm = confusion_matrix(y_test, pred)\n",
    "        plot_confusion_matrix(cm)"
   ]
  },
  {
   "cell_type": "code",
   "execution_count": 54,
   "metadata": {},
   "outputs": [],
   "source": [
    "# Spectre\n",
    "#filterID = 76561198051158462\n",
    "#ml(\"/cs/scratch/sy35/dota-data/67-mouseaction.csv\", filterID)"
   ]
  },
  {
   "cell_type": "code",
   "execution_count": 55,
   "metadata": {},
   "outputs": [
    {
     "name": "stdout",
     "output_type": "stream",
     "text": [
      "Got 16058 attacks, 214461 moves, 2793 casts\n",
      "\n",
      "LR ATTACK - Accuracy: 0.8142981691368788, Precision: 0.6623655913978495, Recall: 0.5880668257756563\n",
      "----\n",
      "LR MOVE - Accuracy: 0.7617480019770402, Precision: 0.6894892517913681, Recall: 0.7567326596863426\n",
      "----\n",
      "LR CAST - Accuracy: 0.7895490336435218, Precision: 0.6776699029126214, Recall: 0.7316561844863732\n",
      "----\n"
     ]
    }
   ],
   "source": [
    "# Pudge\n",
    "#Got 19553 attacks, 268340 moves, 3481 casts\n",
    "filterID = 76561198119286646\n",
    "models = ml(\"/cs/scratch/sy35/dota-data/14/14-mouseaction.csv\", filterID)"
   ]
  },
  {
   "cell_type": "code",
   "execution_count": 56,
   "metadata": {
    "scrolled": false
   },
   "outputs": [
    {
     "name": "stdout",
     "output_type": "stream",
     "text": [
      "ATTACK - Accuracy: 0.7702635504724018, Precision: 0.7532228360957642, Recall: 0.5549525101763908\n",
      "MOVE - Accuracy: 0.8028724488119104, Precision: 0.8709480495696234, Recall: 0.7860172993223514\n",
      "CAST - Accuracy: 0.8433420365535248, Precision: 0.8269230769230769, Recall: 0.7962962962962963\n"
     ]
    },
    {
     "data": {
      "image/png": "[encoded data removed]",
      "text/plain": [
       "<Figure size 720x504 with 2 Axes>"
      ]
     },
     "metadata": {},
     "output_type": "display_data"
    },
    {
     "data": {
      "image/png": "[encoded data removed]",
      "text/plain": [
       "<Figure size 720x504 with 2 Axes>"
      ]
     },
     "metadata": {},
     "output_type": "display_data"
    },
    {
     "data": {
      "image/png": "[encoded data removed]",
      "text/plain": [
       "<Figure size 720x504 with 2 Axes>"
      ]
     },
     "metadata": {},
     "output_type": "display_data"
    }
   ],
   "source": [
    "evaluate(\"/cs/scratch/sy35/dota-data/14/evaluation.csv\")"
   ]
  },
  {
   "cell_type": "code",
   "execution_count": null,
   "metadata": {
    "scrolled": true
   },
   "outputs": [],
   "source": []
  }
 ],
 "metadata": {
  "kernelspec": {
   "display_name": "ml",
   "language": "python",
   "name": "ml"
  },
  "language_info": {
   "codemirror_mode": {
    "name": "ipython",
    "version": 3
   },
   "file_extension": ".py",
   "mimetype": "text/x-python",
   "name": "python",
   "nbconvert_exporter": "python",
   "pygments_lexer": "ipython3",
   "version": "3.6.6"
  }
 },
 "nbformat": 4,
 "nbformat_minor": 2
}
