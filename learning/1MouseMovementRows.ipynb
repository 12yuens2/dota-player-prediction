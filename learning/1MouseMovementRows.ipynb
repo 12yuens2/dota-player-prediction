{
 "cells": [
  {
   "cell_type": "code",
   "execution_count": 28,
   "metadata": {},
   "outputs": [],
   "source": [
    "import pandas as pd\n",
    "\n",
    "def get_action_df(raw_df, action):\n",
    "    return raw_df.loc[raw_df[\"actionType\"] == action].drop(\"actionType\", 1)\n",
    "\n",
    "\n",
    "def is_filter_player(steam_id, filter_id):\n",
    "    if steam_id == filter_id:\n",
    "        return 1\n",
    "    else:\n",
    "        return 0\n",
    "\n",
    "def get_dfs(dfs):\n",
    "    raw_df = pd.concat(dfs, ignore_index=True)\n",
    "    raw_df = raw_df.dropna()\n",
    "    \n",
    "    attack_df = get_action_df(raw_df, \"ATTACK\")\n",
    "    move_df = get_action_df(raw_df, \"MOVE\")\n",
    "    cast_df = get_action_df(raw_df, \"CAST\")\n",
    "    \n",
    "    return attack_df, move_df, cast_df    "
   ]
  },
  {
   "cell_type": "code",
   "execution_count": 42,
   "metadata": {},
   "outputs": [],
   "source": [
    "from sklearn.linear_model import LogisticRegression\n",
    "from sklearn.model_selection import StratifiedKFold\n",
    "from sklearn.metrics import accuracy_score\n",
    "from sklearn.metrics import precision_score\n",
    "from sklearn.metrics import recall_score\n",
    "\n",
    "    \n",
    "def fit_model(model, df, filter_id):\n",
    "    y = df[\"steamid\"].map(lambda steamid: is_filter_player(steamid, filter_id))\n",
    "    X = df.drop(\"steamid\", 1)\n",
    "    \n",
    "    model.fit(X, y)\n",
    "    \n",
    "    return model\n",
    "\n",
    "\n",
    "def cross_validate(dfs, ys, splits, filter_id):\n",
    "    skf = StratifiedKFold(n_splits=splits)\n",
    "    \n",
    "    for train, test in skf.split(dfs, ys):\n",
    "        training_dfs = [dfs[i] for i in train]\n",
    "        testing_dfs = [dfs[i] for i in test]\n",
    "        \n",
    "        training_attack_df, training_move_df, training_cast_df = get_dfs(training_dfs)\n",
    "        testing_attack_df, testing_move_df, testing_cast_df = get_dfs(testing_dfs)\n",
    "        \n",
    "        print(\"Training on {} attacks, {} moves and {} casts\".format(len(training_attack_df.index), len(training_move_df.index), len(training_cast_df.index)))\n",
    "        print(\"Testing on {} attacks, {} moves and {} casts\".format(len(testing_attack_df.index), len(testing_move_df.index), len(testing_cast_df.index)))\n",
    "        for name, train_df, test_df in [(\"ATTACK\", training_attack_df, testing_attack_df), \n",
    "                                        (\"MOVE\", training_move_df, testing_move_df), \n",
    "                                        (\"CAST\", training_cast_df, testing_cast_df)]:\n",
    "\n",
    "            lr = fit_model(LogisticRegression(class_weight=\"balanced\"), train_df, filter_id)\n",
    "            \n",
    "            acc, pre, rec = test_model(lr, test_df, filter_id)\n",
    "            print_scores(name, acc, pre, rec)\n",
    "        print(\"\")\n",
    "    \n",
    "def test_model(model, df, filter_id):\n",
    "    y = df[\"steamid\"].map(lambda steamid: is_filter_player(steamid, filter_id))\n",
    "    X = df.drop(\"steamid\", 1)\n",
    "    \n",
    "    predictions = model.predict(X)\n",
    "    \n",
    "    accuracy = accuracy_score(y, predictions)\n",
    "    precision = precision_score(y, predictions)\n",
    "    recall = recall_score(y, predictions)\n",
    "    \n",
    "    return accuracy, precision, recall\n",
    "\n",
    "def print_scores(name, accuracy, precision, recall):\n",
    "    print(\"{} - Accuracy: {}, Precision: {}, Recall: {}\".format(name, accuracy, precision, recall)) \n",
    "\n",
    "    "
   ]
  },
  {
   "cell_type": "code",
   "execution_count": 43,
   "metadata": {},
   "outputs": [],
   "source": [
    "import ntpath\n",
    "import os\n",
    "import random\n",
    "\n",
    "def ml(path, splits):\n",
    "    csvs = [\"{}/{}\".format(path,file) for file in os.listdir(path)]\n",
    "    filter_id = 76561198119286646\n",
    "    \n",
    "    dfs = [pd.read_csv(csv_file) for csv_file in csvs]\n",
    "    ys = [is_filter_player(filter_id, ntpath.basename(csv_file)[:17]) for csv_file in csvs]\n",
    "    \n",
    "    cross_validate(dfs, ys, splits, filter_id)\n",
    "    "
   ]
  },
  {
   "cell_type": "code",
   "execution_count": 16,
   "metadata": {},
   "outputs": [],
   "source": [
    "path = \"/cs/scratch/sy35/dota-data/14-2/data/mouseaction\""
   ]
  },
  {
   "cell_type": "code",
   "execution_count": 44,
   "metadata": {},
   "outputs": [
    {
     "name": "stdout",
     "output_type": "stream",
     "text": [
      "Training on 47851 attacks, 722209 moves and 11755 casts\n",
      "Testing on 11967 attacks, 170655 moves and 2857 casts\n",
      "ATTACK - Accuracy: 0.765104036099273, Precision: 0.36394736842105263, Recall: 0.7782779966235228\n",
      "MOVE - Accuracy: 0.8039143300811579, Precision: 0.540292756764195, Recall: 0.8233983432945371\n",
      "CAST - Accuracy: 0.8246412320616031, Precision: 0.42876165113182424, Recall: 0.817258883248731\n",
      "\n",
      "Training on 48131 attacks, 705118 moves and 11475 casts\n",
      "Testing on 11687 attacks, 187746 moves and 3137 casts\n",
      "ATTACK - Accuracy: 0.7164370668263883, Precision: 0.4953785644051131, Recall: 0.7710437710437711\n",
      "MOVE - Accuracy: 0.7334377296986354, Precision: 0.5983670209225445, Recall: 0.7957804662142225\n",
      "CAST - Accuracy: 0.7590054191903092, Precision: 0.49594155844155846, Recall: 0.8190348525469169\n",
      "\n",
      "Training on 47778 attacks, 708918 moves and 11535 casts\n",
      "Testing on 12040 attacks, 183946 moves and 3077 casts\n",
      "ATTACK - Accuracy: 0.7641196013289037, Precision: 0.636969350847135, Recall: 0.7819584014956765\n",
      "MOVE - Accuracy: 0.8127222119535081, Precision: 0.8145842150987949, Recall: 0.8042380989036366\n",
      "CAST - Accuracy: 0.8284042898927527, Precision: 0.6895056374674762, Recall: 0.8238341968911918\n",
      "\n",
      "Training on 47657 attacks, 724696 moves and 12033 casts\n",
      "Testing on 12161 attacks, 168168 moves and 2579 casts\n",
      "ATTACK - Accuracy: 0.7082476770002467, Precision: 0.44040219378427786, Recall: 0.8318370165745856\n",
      "MOVE - Accuracy: 0.7778887778887779, Precision: 0.6618863691409487, Recall: 0.8274449809564788\n",
      "CAST - Accuracy: 0.7665761923226057, Precision: 0.5092143549951503, Recall: 0.8454106280193237\n",
      "\n",
      "Training on 47855 attacks, 710515 moves and 11650 casts\n",
      "Testing on 11963 attacks, 182349 moves and 2962 casts\n",
      "ATTACK - Accuracy: 0.7617654434506395, Precision: 0.5431323283082077, Recall: 0.7952176578786021\n",
      "MOVE - Accuracy: 0.8048193299661638, Precision: 0.6789924048135727, Recall: 0.8521315280464217\n",
      "CAST - Accuracy: 0.8251181634031061, Precision: 0.6105263157894737, Recall: 0.8518024032042724\n",
      "\n"
     ]
    }
   ],
   "source": [
    "ml(path, 5)"
   ]
  },
  {
   "cell_type": "code",
   "execution_count": null,
   "metadata": {},
   "outputs": [],
   "source": []
  }
 ],
 "metadata": {
  "kernelspec": {
   "display_name": "ml",
   "language": "python",
   "name": "ml"
  },
  "language_info": {
   "codemirror_mode": {
    "name": "ipython",
    "version": 3
   },
   "file_extension": ".py",
   "mimetype": "text/x-python",
   "name": "python",
   "nbconvert_exporter": "python",
   "pygments_lexer": "ipython3",
   "version": "3.6.6"
  }
 },
 "nbformat": 4,
 "nbformat_minor": 2
}
