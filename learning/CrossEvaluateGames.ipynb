{
 "cells": [
  {
   "cell_type": "code",
   "execution_count": 1,
   "metadata": {},
   "outputs": [],
   "source": [
    "%run game_classifier.py"
   ]
  },
  {
   "cell_type": "code",
   "execution_count": 2,
   "metadata": {},
   "outputs": [],
   "source": [
    "import os\n",
    "import random\n",
    "import ntpath\n",
    "\n",
    "from sklearn.linear_model import LogisticRegression\n",
    "\n",
    "def containsPlayer(game, filter_id):\n",
    "    if filter_id in game.csv_file:\n",
    "        return 1\n",
    "    else:\n",
    "        return 0\n",
    "\n",
    "def load_games(filepath):\n",
    "    games = []\n",
    "    for filename in os.listdir(filepath):\n",
    "        games.append(Game(\"{}/{}\".format(filepath, filename)))\n",
    "        \n",
    "    return games\n",
    "\n",
    "def cross_eval(games, n_splits, class_weight, network_size, filter_id):\n",
    "    #filter_id = \"76561198119286646\" #ntpath.basename(random.choice(games).csv_file)[:17]\n",
    "    \n",
    "    classifier = GameClassifier(int(filter_id), \n",
    "                                LogisticRegression(class_weight=class_weight), \n",
    "                                LogisticRegression(class_weight=class_weight), \n",
    "                                LogisticRegression(class_weight=class_weight),\n",
    "                                network_size)\n",
    "    \n",
    "    ys = [containsPlayer(game, filter_id) for game in games]\n",
    "    negatives = ys.count(0)\n",
    "    positives = ys.count(1)\n",
    "    print(\"{} negatives samples and {} positive samples\".format(negatives, positives))\n",
    "\n",
    "    classifier.cross_validate(games, ys, splits=n_splits)\n",
    "    \n",
    "    return classifier"
   ]
  },
  {
   "cell_type": "code",
   "execution_count": null,
   "metadata": {},
   "outputs": [],
   "source": [
    "games = load_games(\"/cs/scratch/sy35/dota-data/14/data/mouseaction\")"
   ]
  },
  {
   "cell_type": "code",
   "execution_count": null,
   "metadata": {
    "scrolled": false
   },
   "outputs": [],
   "source": [
    "clf_balanced = cross_eval(games, 4, \"balanced\", (3,))"
   ]
  },
  {
   "cell_type": "code",
   "execution_count": null,
   "metadata": {},
   "outputs": [],
   "source": [
    "clf_none = cross_eval(games, 4, None, (3,))"
   ]
  },
  {
   "cell_type": "code",
   "execution_count": null,
   "metadata": {},
   "outputs": [],
   "source": [
    "test_games = load_games(\"/cs/scratch/sy35/dota-data/tmp/\")"
   ]
  },
  {
   "cell_type": "code",
   "execution_count": null,
   "metadata": {},
   "outputs": [],
   "source": []
  },
  {
   "cell_type": "code",
   "execution_count": 3,
   "metadata": {},
   "outputs": [],
   "source": [
    "games = load_games(\"/cs/scratch/sy35/dota-data/15/data/mouseaction\")"
   ]
  },
  {
   "cell_type": "code",
   "execution_count": 4,
   "metadata": {},
   "outputs": [
    {
     "name": "stdout",
     "output_type": "stream",
     "text": [
      "49 negatives samples and 55 positive samples\n",
      "KFold accuracy voting: 0.8518518518518519, precision: 0.8125, recall: 0.9285714285714286\n",
      "KFold accuracy network: 0.9259259259259259, precision: 0.875, recall: 1.0\n",
      "\n",
      "KFold accuracy voting: 0.9230769230769231, precision: 0.9285714285714286, recall: 0.9285714285714286\n",
      "KFold accuracy network: 0.8846153846153846, precision: 0.8666666666666667, recall: 0.9285714285714286\n",
      "\n",
      "KFold accuracy voting: 0.8846153846153846, precision: 1.0, recall: 0.7857142857142857\n",
      "KFold accuracy network: 0.8846153846153846, precision: 0.9230769230769231, recall: 0.8571428571428571\n",
      "\n",
      "KFold accuracy voting: 0.92, precision: 1.0, recall: 0.8461538461538461\n",
      "KFold accuracy network: 0.84, precision: 0.8461538461538461, recall: 0.8461538461538461\n",
      "\n"
     ]
    }
   ],
   "source": [
    "clf_balanced = cross_eval(games, 4, \"balanced\", (3,), \"76561198047065028\")"
   ]
  },
  {
   "cell_type": "code",
   "execution_count": 5,
   "metadata": {},
   "outputs": [
    {
     "name": "stdout",
     "output_type": "stream",
     "text": [
      "49 negatives samples and 55 positive samples\n",
      "KFold accuracy voting: 0.8148148148148148, precision: 0.7368421052631579, recall: 1.0\n",
      "KFold accuracy network: 0.9259259259259259, precision: 0.875, recall: 1.0\n",
      "\n",
      "KFold accuracy voting: 0.8461538461538461, precision: 0.7777777777777778, recall: 1.0\n",
      "KFold accuracy network: 0.9230769230769231, precision: 0.875, recall: 1.0\n",
      "\n",
      "KFold accuracy voting: 0.8461538461538461, precision: 0.9166666666666666, recall: 0.7857142857142857\n",
      "KFold accuracy network: 0.8846153846153846, precision: 0.9230769230769231, recall: 0.8571428571428571\n",
      "\n",
      "KFold accuracy voting: 0.84, precision: 0.8, recall: 0.9230769230769231\n",
      "KFold accuracy network: 0.88, precision: 0.9166666666666666, recall: 0.8461538461538461\n",
      "\n"
     ]
    }
   ],
   "source": [
    "clf_none = cross_eval(games, 4, None, (3,), \"76561198047065028\")"
   ]
  },
  {
   "cell_type": "code",
   "execution_count": 6,
   "metadata": {},
   "outputs": [],
   "source": [
    "test_games = load_games(\"/cs/scratch/sy35/dota-data/tmp/\")"
   ]
  },
  {
   "cell_type": "code",
   "execution_count": 7,
   "metadata": {},
   "outputs": [
    {
     "data": {
      "text/plain": [
       "[1, 1, 0, 1]"
      ]
     },
     "execution_count": 7,
     "metadata": {},
     "output_type": "execute_result"
    }
   ],
   "source": [
    "clf_balanced.predict_voting(test_games)"
   ]
  },
  {
   "cell_type": "code",
   "execution_count": 8,
   "metadata": {},
   "outputs": [
    {
     "data": {
      "text/plain": [
       "array([1, 0, 0, 1])"
      ]
     },
     "execution_count": 8,
     "metadata": {},
     "output_type": "execute_result"
    }
   ],
   "source": [
    "clf_balanced.predict_network(test_games)"
   ]
  },
  {
   "cell_type": "code",
   "execution_count": 9,
   "metadata": {},
   "outputs": [
    {
     "data": {
      "text/plain": [
       "['/cs/scratch/sy35/dota-data/tmp//76561198047065028-1832784278_729093472.dem.bz2-mouseaction.csv',\n",
       " '/cs/scratch/sy35/dota-data/tmp//76561198181931958-3917700931_977855218.dem.bz2-mouseaction.csv',\n",
       " '/cs/scratch/sy35/dota-data/tmp//76561198071024795-3841740022_1603161940.dem.bz2-mouseaction.csv',\n",
       " '/cs/scratch/sy35/dota-data/tmp//76561198047065028-2013646526_1546837289.dem.bz2-mouseaction.csv']"
      ]
     },
     "execution_count": 9,
     "metadata": {},
     "output_type": "execute_result"
    }
   ],
   "source": [
    "[game.csv_file for game in test_games]"
   ]
  },
  {
   "cell_type": "code",
   "execution_count": 10,
   "metadata": {},
   "outputs": [
    {
     "data": {
      "text/plain": [
       "[1, 1, 0, 1]"
      ]
     },
     "execution_count": 10,
     "metadata": {},
     "output_type": "execute_result"
    }
   ],
   "source": [
    "clf_none.predict_voting(test_games)"
   ]
  },
  {
   "cell_type": "code",
   "execution_count": 12,
   "metadata": {},
   "outputs": [
    {
     "data": {
      "text/plain": [
       "array([1, 0, 0, 1])"
      ]
     },
     "execution_count": 12,
     "metadata": {},
     "output_type": "execute_result"
    }
   ],
   "source": [
    "clf_none.predict_network(test_games)"
   ]
  },
  {
   "cell_type": "code",
   "execution_count": null,
   "metadata": {},
   "outputs": [],
   "source": []
  }
 ],
 "metadata": {
  "kernelspec": {
   "display_name": "ml",
   "language": "python",
   "name": "ml"
  },
  "language_info": {
   "codemirror_mode": {
    "name": "ipython",
    "version": 3
   },
   "file_extension": ".py",
   "mimetype": "text/x-python",
   "name": "python",
   "nbconvert_exporter": "python",
   "pygments_lexer": "ipython3",
   "version": "3.6.6"
  }
 },
 "nbformat": 4,
 "nbformat_minor": 2
}
