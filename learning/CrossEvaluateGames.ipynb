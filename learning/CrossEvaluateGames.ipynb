{
 "cells": [
  {
   "cell_type": "code",
   "execution_count": 1,
   "metadata": {},
   "outputs": [],
   "source": [
    "%run game_classifier.py"
   ]
  },
  {
   "cell_type": "code",
   "execution_count": 5,
   "metadata": {},
   "outputs": [],
   "source": [
    "import os\n",
    "import random\n",
    "import ntpath\n",
    "\n",
    "from sklearn.linear_model import LogisticRegression\n",
    "\n",
    "def containsPlayer(game, filter_id):\n",
    "    if filter_id in game.csv_file:\n",
    "        return 1\n",
    "    else:\n",
    "        return 0\n",
    "\n",
    "def load_games(filepath):\n",
    "    games = []\n",
    "    for filename in os.listdir(filepath):\n",
    "        games.append(Game(\"{}/{}\".format(filepath, filename)))\n",
    "        \n",
    "    return games\n",
    "\n",
    "def cross_eval(games, n_splits, class_weight):\n",
    "    filter_id = \"76561198119286646\" #ntpath.basename(random.choice(games).csv_file)[:17]\n",
    "    \n",
    "    classifier = GameClassifier(int(filter_id), \n",
    "                                LogisticRegression(class_weight=class_weight), \n",
    "                                LogisticRegression(class_weight=class_weight), \n",
    "                                LogisticRegression(class_weight=class_weight))\n",
    "    \n",
    "    ys = [containsPlayer(game, filter_id) for game in games]\n",
    "    negatives = ys.count(0)\n",
    "    positives = ys.count(1)\n",
    "    print(\"{} negatives samples and {} positive samples\".format(negatives, positives))\n",
    "\n",
    "    classifier.cross_validate(games, ys, splits=n_splits)"
   ]
  },
  {
   "cell_type": "code",
   "execution_count": 3,
   "metadata": {},
   "outputs": [],
   "source": [
    "games = load_games(\"/cs/scratch/sy35/dota-data/14-2/data/mouseaction\")"
   ]
  },
  {
   "cell_type": "code",
   "execution_count": 6,
   "metadata": {
    "scrolled": false
   },
   "outputs": [
    {
     "name": "stdout",
     "output_type": "stream",
     "text": [
      "Predictions voting: [0, 0, 1, 1, 0, 0, 0, 0, 1, 0, 0, 0, 0, 0, 0, 1, 0, 0, 0, 0, 0, 0, 0, 1, 0, 0, 0, 1, 0, 1, 0, 0, 0, 0, 0, 0, 1, 0, 0, 0, 0, 1, 1, 1]\n",
      "Predictions network: [0 0 1 1 0 0 0 0 1 0 0 0 0 0 0 1 0 0 0 0 0 0 0 0 0 0 0 1 0 1 0 0 0 0 0 0 1\n",
      " 0 0 0 0 1 1 1]\n",
      "Actual:      [0, 0, 1, 1, 0, 0, 0, 0, 1, 0, 0, 0, 0, 0, 0, 1, 0, 0, 0, 0, 0, 0, 0, 0, 0, 0, 0, 1, 0, 1, 0, 0, 0, 0, 0, 0, 1, 0, 0, 0, 0, 1, 1, 1]\n",
      "KFold accuracy voting: 0.9772727272727273, precision: 0.9090909090909091, recall: 1.0\n",
      "KFold accuracy network: 1.0, precision: 1.0, recall: 1.0\n",
      "\n",
      "Predictions voting: [0, 0, 0, 0, 0, 0, 0, 0, 0, 0, 1, 1, 0, 0, 0, 0, 0, 1, 0, 1, 0, 0, 0, 1, 0, 0, 1, 0, 1, 0, 0, 0, 0, 1, 0, 0, 0, 0, 0, 0, 0, 1, 1, 0]\n",
      "Predictions network: [0 0 0 0 0 0 0 0 0 0 1 1 0 0 0 0 0 1 0 1 0 0 0 1 0 0 1 0 1 0 0 0 0 1 0 0 0\n",
      " 0 0 0 0 1 1 0]\n",
      "Actual:      [0, 0, 0, 0, 0, 0, 0, 0, 0, 0, 1, 1, 0, 0, 0, 0, 0, 1, 0, 1, 0, 0, 0, 1, 0, 0, 1, 0, 1, 0, 0, 0, 0, 1, 0, 0, 0, 0, 0, 0, 0, 1, 1, 0]\n",
      "KFold accuracy voting: 1.0, precision: 1.0, recall: 1.0\n",
      "KFold accuracy network: 1.0, precision: 1.0, recall: 1.0\n",
      "\n",
      "Predictions voting: [0, 1, 0, 0, 0, 0, 0, 0, 0, 1, 0, 0, 0, 1, 0, 1, 0, 0, 0, 1, 0, 0, 0, 0, 1, 0, 0, 0, 0, 0, 0, 0, 0, 0, 0, 1, 1, 0, 1, 0, 0, 1, 0]\n",
      "Predictions network: [0 1 0 0 0 0 0 0 0 1 0 0 0 1 0 1 0 0 0 1 0 0 0 0 1 0 0 0 0 0 0 0 0 0 0 1 1\n",
      " 0 1 0 0 1 0]\n",
      "Actual:      [0, 1, 0, 0, 0, 0, 0, 0, 0, 1, 0, 0, 0, 1, 0, 1, 0, 0, 0, 1, 0, 0, 0, 0, 1, 0, 0, 0, 0, 0, 0, 0, 0, 0, 0, 1, 1, 0, 1, 0, 0, 1, 0]\n",
      "KFold accuracy voting: 1.0, precision: 1.0, recall: 1.0\n",
      "KFold accuracy network: 1.0, precision: 1.0, recall: 1.0\n",
      "\n"
     ]
    }
   ],
   "source": [
    "cross_eval(games, 3, \"balanced\")"
   ]
  },
  {
   "cell_type": "code",
   "execution_count": 7,
   "metadata": {},
   "outputs": [
    {
     "name": "stdout",
     "output_type": "stream",
     "text": [
      "Predictions voting: [0, 0, 1, 1, 0, 0, 0, 0, 1, 0, 0, 0, 0, 0, 0, 1, 0, 0, 0, 0, 0, 0, 0, 1, 0, 0, 0, 1, 0, 1, 0, 0, 1, 1]\n",
      "Predictions network: [0 0 1 1 0 0 0 0 1 0 0 0 0 0 0 1 0 0 0 0 0 0 0 0 0 0 0 1 0 1 0 0 1 1]\n",
      "Actual:      [0, 0, 1, 1, 0, 0, 0, 0, 1, 0, 0, 0, 0, 0, 0, 1, 0, 0, 0, 0, 0, 0, 0, 0, 0, 0, 0, 1, 0, 1, 0, 0, 1, 1]\n",
      "KFold accuracy voting: 0.9705882352941176, precision: 0.8888888888888888, recall: 1.0\n",
      "KFold accuracy network: 1.0, precision: 1.0, recall: 1.0\n",
      "\n",
      "Predictions voting: [0, 0, 0, 0, 0, 0, 0, 0, 0, 0, 1, 0, 0, 0, 0, 0, 0, 1, 0, 0, 1, 1, 0, 0, 0, 0, 0, 1, 0, 1, 0, 1, 1]\n",
      "Predictions network: [0 0 0 0 0 0 0 0 0 0 1 0 0 0 0 0 0 1 0 0 1 1 0 0 0 0 0 1 0 1 0 1 1]\n",
      "Actual:      [0, 0, 0, 0, 0, 0, 0, 0, 0, 0, 1, 0, 0, 0, 0, 0, 0, 1, 0, 0, 1, 1, 0, 0, 0, 0, 0, 1, 0, 1, 0, 1, 1]\n",
      "KFold accuracy voting: 1.0, precision: 1.0, recall: 1.0\n",
      "KFold accuracy network: 1.0, precision: 1.0, recall: 1.0\n",
      "\n",
      "Predictions voting: [0, 0, 0, 0, 0, 1, 0, 0, 0, 0, 1, 0, 0, 0, 0, 0, 0, 0, 1, 1, 0, 0, 1, 0, 0, 0, 0, 0, 0, 0, 1, 1]\n",
      "Predictions network: [0 0 0 0 0 1 0 0 0 0 1 0 0 0 0 0 0 0 1 1 0 0 1 0 0 0 0 0 0 0 1 1]\n",
      "Actual:      [0, 0, 0, 0, 0, 1, 0, 0, 0, 0, 1, 0, 0, 0, 0, 0, 0, 0, 1, 1, 0, 0, 1, 0, 0, 0, 0, 0, 0, 0, 1, 1]\n",
      "KFold accuracy voting: 1.0, precision: 1.0, recall: 1.0\n",
      "KFold accuracy network: 1.0, precision: 1.0, recall: 1.0\n",
      "\n",
      "Predictions voting: [0, 0, 0, 0, 1, 0, 0, 0, 1, 0, 0, 0, 0, 1, 0, 0, 0, 0, 0, 0, 0, 0, 0, 0, 1, 1, 0, 1, 0, 0, 1, 0]\n",
      "Predictions network: [0 0 0 0 1 0 0 0 1 0 0 0 0 1 0 0 0 0 0 0 0 0 0 0 1 1 0 1 0 0 1 0]\n",
      "Actual:      [0, 0, 0, 0, 1, 0, 0, 0, 1, 0, 0, 0, 0, 1, 0, 0, 0, 0, 0, 0, 0, 0, 0, 0, 1, 1, 0, 1, 0, 0, 1, 0]\n",
      "KFold accuracy voting: 1.0, precision: 1.0, recall: 1.0\n",
      "KFold accuracy network: 1.0, precision: 1.0, recall: 1.0\n",
      "\n"
     ]
    }
   ],
   "source": [
    "cross_eval(games, 4, \"balanced\")"
   ]
  },
  {
   "cell_type": "code",
   "execution_count": 8,
   "metadata": {},
   "outputs": [
    {
     "name": "stdout",
     "output_type": "stream",
     "text": [
      "Predictions voting: [0, 0, 1, 1, 0, 0, 0, 0, 1, 0, 0, 0, 0, 0, 0, 1, 0, 0, 0, 0, 0, 0, 0, 1, 0, 1, 1]\n",
      "Predictions network: [0 0 1 1 0 0 0 0 1 0 0 0 0 0 0 1 0 0 0 0 0 0 0 0 0 1 1]\n",
      "Actual:      [0, 0, 1, 1, 0, 0, 0, 0, 1, 0, 0, 0, 0, 0, 0, 1, 0, 0, 0, 0, 0, 0, 0, 0, 0, 1, 1]\n",
      "KFold accuracy voting: 0.9629629629629629, precision: 0.8571428571428571, recall: 1.0\n",
      "KFold accuracy network: 1.0, precision: 1.0, recall: 1.0\n",
      "\n",
      "Predictions voting: [0, 0, 0, 0, 0, 0, 0, 0, 0, 1, 0, 0, 0, 0, 0, 1, 0, 1, 0, 0, 0, 0, 0, 1, 1, 1]\n",
      "Predictions network: [0 0 0 0 0 0 0 0 0 1 0 0 0 0 0 1 0 1 0 0 0 0 0 1 1 1]\n",
      "Actual:      [0, 0, 0, 0, 0, 0, 0, 0, 0, 1, 0, 0, 0, 0, 0, 1, 0, 1, 0, 0, 0, 0, 0, 1, 1, 1]\n",
      "KFold accuracy voting: 1.0, precision: 1.0, recall: 1.0\n",
      "KFold accuracy network: 1.0, precision: 1.0, recall: 1.0\n",
      "\n",
      "Predictions voting: [0, 0, 0, 0, 0, 0, 0, 0, 1, 0, 1, 0, 0, 0, 1, 0, 0, 1, 0, 1, 0, 0, 0, 0, 1, 0]\n",
      "Predictions network: [0 0 0 0 0 0 0 0 1 0 1 0 0 0 1 0 0 1 0 1 0 0 0 0 1 0]\n",
      "Actual:      [0, 0, 0, 0, 0, 0, 0, 0, 1, 0, 1, 0, 0, 0, 1, 0, 0, 1, 0, 1, 0, 0, 0, 0, 1, 0]\n",
      "KFold accuracy voting: 1.0, precision: 1.0, recall: 1.0\n",
      "KFold accuracy network: 1.0, precision: 1.0, recall: 1.0\n",
      "\n",
      "Predictions voting: [0, 0, 0, 0, 0, 0, 1, 1, 0, 0, 1, 0, 0, 0, 0, 0, 0, 0, 1, 0, 0, 0, 1, 0, 1, 0]\n",
      "Predictions network: [0 0 0 0 0 0 1 1 0 0 1 0 0 0 0 0 0 0 1 0 0 0 1 0 1 0]\n",
      "Actual:      [0, 0, 0, 0, 0, 0, 1, 1, 0, 0, 1, 0, 0, 0, 0, 0, 0, 0, 1, 0, 0, 0, 1, 0, 1, 0]\n",
      "KFold accuracy voting: 1.0, precision: 1.0, recall: 1.0\n",
      "KFold accuracy network: 1.0, precision: 1.0, recall: 1.0\n",
      "\n",
      "Predictions voting: [0, 0, 1, 0, 0, 0, 0, 1, 0, 0, 0, 0, 0, 0, 0, 0, 0, 0, 1, 1, 0, 1, 0, 0, 1, 0]\n",
      "Predictions network: [0 0 1 0 0 0 0 1 0 0 0 0 0 0 0 0 0 0 1 1 0 1 0 0 1 0]\n",
      "Actual:      [0, 0, 1, 0, 0, 0, 0, 1, 0, 0, 0, 0, 0, 0, 0, 0, 0, 0, 1, 1, 0, 1, 0, 0, 1, 0]\n",
      "KFold accuracy voting: 1.0, precision: 1.0, recall: 1.0\n",
      "KFold accuracy network: 1.0, precision: 1.0, recall: 1.0\n",
      "\n"
     ]
    }
   ],
   "source": [
    "cross_eval(games, 5, \"balanced\")"
   ]
  },
  {
   "cell_type": "code",
   "execution_count": 4,
   "metadata": {},
   "outputs": [
    {
     "name": "stdout",
     "output_type": "stream",
     "text": [
      "Predictions voting: [0, 0, 1, 1, 0, 0, 0, 0, 1, 0, 0, 0, 0, 0, 0, 1, 0, 0, 0, 0, 0, 0, 0, 0, 0, 0, 1]\n",
      "Predictions network: [0 0 1 1 0 0 0 0 1 0 0 0 0 0 0 1 0 0 0 0 0 0 0 0 0 1 1]\n",
      "Actual:      [0, 0, 1, 1, 0, 0, 0, 0, 1, 0, 0, 0, 0, 0, 0, 1, 0, 0, 0, 0, 0, 0, 0, 0, 0, 1, 1]\n",
      "KFold accuracy voting: 0.9629629629629629, precision: 1.0, recall: 0.8333333333333334\n",
      "KFold accuracy network: 1.0, precision: 1.0, recall: 1.0\n",
      "\n",
      "Predictions voting: [0, 0, 0, 0, 0, 0, 0, 0, 0, 1, 0, 0, 0, 0, 0, 1, 0, 1, 0, 0, 0, 0, 0, 1, 1, 1]\n",
      "Predictions network: [0 0 0 0 0 0 0 0 0 1 0 0 0 0 0 1 0 1 0 0 0 0 0 1 1 1]\n",
      "Actual:      [0, 0, 0, 0, 0, 0, 0, 0, 0, 1, 0, 0, 0, 0, 0, 1, 0, 1, 0, 0, 0, 0, 0, 1, 1, 1]\n",
      "KFold accuracy voting: 1.0, precision: 1.0, recall: 1.0\n",
      "KFold accuracy network: 1.0, precision: 1.0, recall: 1.0\n",
      "\n",
      "Predictions voting: [0, 0, 0, 0, 0, 0, 0, 0, 0, 0, 0, 0, 0, 0, 1, 0, 0, 0, 0, 1, 0, 0, 0, 0, 1, 0]\n",
      "Predictions network: [0 0 0 0 0 0 0 0 1 0 1 0 0 0 1 0 0 1 0 1 0 0 0 0 1 0]\n",
      "Actual:      [0, 0, 0, 0, 0, 0, 0, 0, 1, 0, 1, 0, 0, 0, 1, 0, 0, 1, 0, 1, 0, 0, 0, 0, 1, 0]\n",
      "KFold accuracy voting: 0.8846153846153846, precision: 1.0, recall: 0.5\n",
      "KFold accuracy network: 1.0, precision: 1.0, recall: 1.0\n",
      "\n",
      "Predictions voting: [0, 0, 0, 0, 0, 0, 1, 1, 0, 0, 0, 0, 0, 0, 0, 0, 0, 0, 0, 0, 0, 0, 1, 0, 1, 0]\n",
      "Predictions network: [0 0 0 0 0 0 1 1 0 0 1 0 0 0 0 0 0 0 1 0 0 0 1 0 1 0]\n",
      "Actual:      [0, 0, 0, 0, 0, 0, 1, 1, 0, 0, 1, 0, 0, 0, 0, 0, 0, 0, 1, 0, 0, 0, 1, 0, 1, 0]\n",
      "KFold accuracy voting: 0.9230769230769231, precision: 1.0, recall: 0.6666666666666666\n",
      "KFold accuracy network: 1.0, precision: 1.0, recall: 1.0\n",
      "\n",
      "Predictions voting: [0, 0, 1, 0, 0, 0, 0, 0, 0, 0, 0, 0, 0, 0, 0, 0, 0, 0, 1, 1, 0, 1, 0, 0, 1, 0]\n",
      "Predictions network: [0 0 1 0 0 0 0 1 0 0 0 0 0 0 0 0 0 0 1 1 0 1 0 0 1 0]\n",
      "Actual:      [0, 0, 1, 0, 0, 0, 0, 1, 0, 0, 0, 0, 0, 0, 0, 0, 0, 0, 1, 1, 0, 1, 0, 0, 1, 0]\n",
      "KFold accuracy voting: 0.9615384615384616, precision: 1.0, recall: 0.8333333333333334\n",
      "KFold accuracy network: 1.0, precision: 1.0, recall: 1.0\n",
      "\n"
     ]
    }
   ],
   "source": [
    "cross_eval(games, 5, None)"
   ]
  },
  {
   "cell_type": "code",
   "execution_count": 6,
   "metadata": {},
   "outputs": [
    {
     "name": "stdout",
     "output_type": "stream",
     "text": [
      "101 negatives samples and 30 positive samples\n",
      "Predictions voting: [0, 0, 1, 1, 0, 0, 0, 0, 1, 0, 0, 0, 0, 0, 0, 1, 0, 0, 0, 0, 0, 0, 0, 0, 0, 0, 0, 0, 0, 1, 0, 0, 0, 0, 0, 0, 1, 0, 0, 0, 0, 1, 1, 1]\n",
      "Predictions network: [0 0 1 1 0 0 0 0 1 0 0 0 0 0 0 1 0 0 0 0 0 0 0 0 0 0 0 1 0 1 0 0 0 0 0 0 1\n",
      " 0 0 0 0 1 1 1]\n",
      "Actual:      [0, 0, 1, 1, 0, 0, 0, 0, 1, 0, 0, 0, 0, 0, 0, 1, 0, 0, 0, 0, 0, 0, 0, 0, 0, 0, 0, 1, 0, 1, 0, 0, 0, 0, 0, 0, 1, 0, 0, 0, 0, 1, 1, 1]\n",
      "KFold accuracy voting: 0.9772727272727273, precision: 1.0, recall: 0.9\n",
      "KFold accuracy network: 1.0, precision: 1.0, recall: 1.0\n",
      "\n",
      "Predictions voting: [0, 0, 0, 0, 0, 0, 0, 0, 0, 0, 1, 1, 0, 0, 0, 0, 0, 1, 0, 0, 0, 0, 0, 1, 0, 0, 0, 0, 1, 0, 0, 0, 0, 1, 0, 0, 0, 0, 0, 0, 0, 1, 1, 0]\n",
      "Predictions network: [0 0 0 0 0 0 0 0 0 0 1 1 0 0 0 0 0 1 0 1 0 0 0 1 0 0 1 0 1 0 0 0 0 1 0 0 0\n",
      " 0 0 0 0 1 1 0]\n",
      "Actual:      [0, 0, 0, 0, 0, 0, 0, 0, 0, 0, 1, 1, 0, 0, 0, 0, 0, 1, 0, 1, 0, 0, 0, 1, 0, 0, 1, 0, 1, 0, 0, 0, 0, 1, 0, 0, 0, 0, 0, 0, 0, 1, 1, 0]\n",
      "KFold accuracy voting: 0.9545454545454546, precision: 1.0, recall: 0.8\n",
      "KFold accuracy network: 1.0, precision: 1.0, recall: 1.0\n",
      "\n",
      "Predictions voting: [0, 0, 0, 0, 0, 0, 0, 0, 0, 0, 0, 0, 0, 1, 0, 1, 0, 0, 0, 1, 0, 0, 0, 0, 0, 0, 0, 0, 0, 0, 0, 0, 0, 0, 0, 1, 1, 0, 1, 0, 0, 1, 0]\n",
      "Predictions network: [0 1 0 0 0 0 0 0 0 1 0 0 0 1 0 1 0 0 0 1 0 0 0 0 1 0 0 0 0 0 0 0 0 0 0 1 1\n",
      " 0 1 0 0 1 0]\n",
      "Actual:      [0, 1, 0, 0, 0, 0, 0, 0, 0, 1, 0, 0, 0, 1, 0, 1, 0, 0, 0, 1, 0, 0, 0, 0, 1, 0, 0, 0, 0, 0, 0, 0, 0, 0, 0, 1, 1, 0, 1, 0, 0, 1, 0]\n",
      "KFold accuracy voting: 0.9302325581395349, precision: 1.0, recall: 0.7\n",
      "KFold accuracy network: 1.0, precision: 1.0, recall: 1.0\n",
      "\n"
     ]
    }
   ],
   "source": [
    "cross_eval(games, 3, None)"
   ]
  },
  {
   "cell_type": "code",
   "execution_count": null,
   "metadata": {},
   "outputs": [],
   "source": []
  }
 ],
 "metadata": {
  "kernelspec": {
   "display_name": "ml",
   "language": "python",
   "name": "ml"
  },
  "language_info": {
   "codemirror_mode": {
    "name": "ipython",
    "version": 3
   },
   "file_extension": ".py",
   "mimetype": "text/x-python",
   "name": "python",
   "nbconvert_exporter": "python",
   "pygments_lexer": "ipython3",
   "version": "3.6.6"
  }
 },
 "nbformat": 4,
 "nbformat_minor": 2
}
